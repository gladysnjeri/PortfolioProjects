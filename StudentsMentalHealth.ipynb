{
 "cells": [
  {
   "cell_type": "code",
   "execution_count": 36,
   "id": "66df60f8",
   "metadata": {},
   "outputs": [],
   "source": [
    "#Data visualization of Mental Health data using plotly\n",
    "#Import plotly packages\n",
    "import plotly.express as px\n",
    "import plotly.graph_objects as go\n",
    "import pandas as pd\n",
    "\n",
    "mental = pd.read_excel(r'C:\\Users\\User\\Desktop\\project\\Mental.xlsx')"
   ]
  },
  {
   "cell_type": "code",
   "execution_count": 8,
   "id": "41b6f292",
   "metadata": {},
   "outputs": [
    {
     "data": {
      "text/html": [
       "<div>\n",
       "<style scoped>\n",
       "    .dataframe tbody tr th:only-of-type {\n",
       "        vertical-align: middle;\n",
       "    }\n",
       "\n",
       "    .dataframe tbody tr th {\n",
       "        vertical-align: top;\n",
       "    }\n",
       "\n",
       "    .dataframe thead th {\n",
       "        text-align: right;\n",
       "    }\n",
       "</style>\n",
       "<table border=\"1\" class=\"dataframe\">\n",
       "  <thead>\n",
       "    <tr style=\"text-align: right;\">\n",
       "      <th></th>\n",
       "      <th>inter_dom</th>\n",
       "      <th>Region</th>\n",
       "      <th>Gender</th>\n",
       "      <th>Academic</th>\n",
       "      <th>Age</th>\n",
       "      <th>Age_cate</th>\n",
       "      <th>Stay</th>\n",
       "      <th>Stay_Cate</th>\n",
       "      <th>Japanese</th>\n",
       "      <th>Japanese_cate</th>\n",
       "      <th>...</th>\n",
       "      <th>Friends_bi</th>\n",
       "      <th>Parents_bi</th>\n",
       "      <th>Relative_bi</th>\n",
       "      <th>Professional_bi</th>\n",
       "      <th>Phone_bi</th>\n",
       "      <th>Doctor_bi</th>\n",
       "      <th>religion_bi</th>\n",
       "      <th>Alone_bi</th>\n",
       "      <th>Others_bi</th>\n",
       "      <th>Internet_bi</th>\n",
       "    </tr>\n",
       "  </thead>\n",
       "  <tbody>\n",
       "    <tr>\n",
       "      <th>0</th>\n",
       "      <td>Inter</td>\n",
       "      <td>SEA</td>\n",
       "      <td>Male</td>\n",
       "      <td>Grad</td>\n",
       "      <td>24.0</td>\n",
       "      <td>4.0</td>\n",
       "      <td>5.0</td>\n",
       "      <td>Long</td>\n",
       "      <td>3.0</td>\n",
       "      <td>Average</td>\n",
       "      <td>...</td>\n",
       "      <td>Yes</td>\n",
       "      <td>Yes</td>\n",
       "      <td>No</td>\n",
       "      <td>No</td>\n",
       "      <td>No</td>\n",
       "      <td>No</td>\n",
       "      <td>No</td>\n",
       "      <td>No</td>\n",
       "      <td>No</td>\n",
       "      <td>No</td>\n",
       "    </tr>\n",
       "    <tr>\n",
       "      <th>1</th>\n",
       "      <td>Inter</td>\n",
       "      <td>SEA</td>\n",
       "      <td>Male</td>\n",
       "      <td>Grad</td>\n",
       "      <td>28.0</td>\n",
       "      <td>5.0</td>\n",
       "      <td>1.0</td>\n",
       "      <td>Short</td>\n",
       "      <td>4.0</td>\n",
       "      <td>High</td>\n",
       "      <td>...</td>\n",
       "      <td>Yes</td>\n",
       "      <td>Yes</td>\n",
       "      <td>No</td>\n",
       "      <td>No</td>\n",
       "      <td>No</td>\n",
       "      <td>No</td>\n",
       "      <td>No</td>\n",
       "      <td>No</td>\n",
       "      <td>No</td>\n",
       "      <td>No</td>\n",
       "    </tr>\n",
       "    <tr>\n",
       "      <th>2</th>\n",
       "      <td>Inter</td>\n",
       "      <td>SEA</td>\n",
       "      <td>Male</td>\n",
       "      <td>Grad</td>\n",
       "      <td>25.0</td>\n",
       "      <td>4.0</td>\n",
       "      <td>6.0</td>\n",
       "      <td>Long</td>\n",
       "      <td>4.0</td>\n",
       "      <td>High</td>\n",
       "      <td>...</td>\n",
       "      <td>No</td>\n",
       "      <td>No</td>\n",
       "      <td>No</td>\n",
       "      <td>No</td>\n",
       "      <td>No</td>\n",
       "      <td>No</td>\n",
       "      <td>No</td>\n",
       "      <td>No</td>\n",
       "      <td>No</td>\n",
       "      <td>No</td>\n",
       "    </tr>\n",
       "    <tr>\n",
       "      <th>3</th>\n",
       "      <td>Inter</td>\n",
       "      <td>EA</td>\n",
       "      <td>Female</td>\n",
       "      <td>Grad</td>\n",
       "      <td>29.0</td>\n",
       "      <td>5.0</td>\n",
       "      <td>1.0</td>\n",
       "      <td>Short</td>\n",
       "      <td>2.0</td>\n",
       "      <td>Low</td>\n",
       "      <td>...</td>\n",
       "      <td>Yes</td>\n",
       "      <td>Yes</td>\n",
       "      <td>Yes</td>\n",
       "      <td>Yes</td>\n",
       "      <td>No</td>\n",
       "      <td>No</td>\n",
       "      <td>No</td>\n",
       "      <td>No</td>\n",
       "      <td>No</td>\n",
       "      <td>No</td>\n",
       "    </tr>\n",
       "    <tr>\n",
       "      <th>4</th>\n",
       "      <td>Inter</td>\n",
       "      <td>EA</td>\n",
       "      <td>Female</td>\n",
       "      <td>Grad</td>\n",
       "      <td>28.0</td>\n",
       "      <td>5.0</td>\n",
       "      <td>1.0</td>\n",
       "      <td>Short</td>\n",
       "      <td>1.0</td>\n",
       "      <td>Low</td>\n",
       "      <td>...</td>\n",
       "      <td>Yes</td>\n",
       "      <td>Yes</td>\n",
       "      <td>No</td>\n",
       "      <td>Yes</td>\n",
       "      <td>No</td>\n",
       "      <td>Yes</td>\n",
       "      <td>Yes</td>\n",
       "      <td>No</td>\n",
       "      <td>No</td>\n",
       "      <td>No</td>\n",
       "    </tr>\n",
       "  </tbody>\n",
       "</table>\n",
       "<p>5 rows × 50 columns</p>\n",
       "</div>"
      ],
      "text/plain": [
       "  inter_dom Region  Gender Academic   Age  Age_cate  Stay Stay_Cate  Japanese  \\\n",
       "0     Inter    SEA    Male     Grad  24.0       4.0   5.0      Long       3.0   \n",
       "1     Inter    SEA    Male     Grad  28.0       5.0   1.0     Short       4.0   \n",
       "2     Inter    SEA    Male     Grad  25.0       4.0   6.0      Long       4.0   \n",
       "3     Inter     EA  Female     Grad  29.0       5.0   1.0     Short       2.0   \n",
       "4     Inter     EA  Female     Grad  28.0       5.0   1.0     Short       1.0   \n",
       "\n",
       "  Japanese_cate  ...  Friends_bi Parents_bi Relative_bi Professional_bi  \\\n",
       "0       Average  ...         Yes        Yes          No              No   \n",
       "1          High  ...         Yes        Yes          No              No   \n",
       "2          High  ...          No         No          No              No   \n",
       "3           Low  ...         Yes        Yes         Yes             Yes   \n",
       "4           Low  ...         Yes        Yes          No             Yes   \n",
       "\n",
       "  Phone_bi Doctor_bi religion_bi  Alone_bi Others_bi  Internet_bi  \n",
       "0       No        No          No        No        No           No  \n",
       "1       No        No          No        No        No           No  \n",
       "2       No        No          No        No        No           No  \n",
       "3       No        No          No        No        No           No  \n",
       "4       No       Yes         Yes        No        No           No  \n",
       "\n",
       "[5 rows x 50 columns]"
      ]
     },
     "execution_count": 8,
     "metadata": {},
     "output_type": "execute_result"
    }
   ],
   "source": [
    "mental.head()"
   ]
  },
  {
   "cell_type": "code",
   "execution_count": 37,
   "id": "93f64f6c",
   "metadata": {},
   "outputs": [
    {
     "data": {
      "application/vnd.plotly.v1+json": {
       "config": {
        "plotlyServerURL": "https://plot.ly"
       },
       "data": [
        {
         "alignmentgroup": "True",
         "bingroup": "x",
         "hovertemplate": "Type of Student=Inter<br>Total PHQ-9 Scores=%{x}<br>count=%{y}<extra></extra>",
         "legendgroup": "Inter",
         "marker": {
          "color": "#636efa",
          "pattern": {
           "shape": ""
          }
         },
         "name": "Inter",
         "offsetgroup": "Inter",
         "orientation": "v",
         "showlegend": true,
         "type": "histogram",
         "x": [
          0,
          2,
          2,
          3,
          3,
          6,
          3,
          9,
          7,
          3,
          5,
          8,
          1,
          3,
          9,
          6,
          3,
          3,
          7,
          1,
          4,
          3,
          13,
          1,
          8,
          10,
          13,
          9,
          6,
          7,
          10,
          9,
          9,
          2,
          9,
          14,
          4,
          14,
          13,
          15,
          6,
          4,
          10,
          12,
          6,
          7,
          13,
          2,
          0,
          6,
          19,
          9,
          10,
          8,
          5,
          8,
          17,
          12,
          8,
          7,
          5,
          2,
          8,
          7,
          5,
          9,
          11,
          9,
          5,
          14,
          9,
          5,
          6,
          4,
          2,
          10,
          11,
          10,
          13,
          6,
          6,
          10,
          2,
          0,
          13,
          13,
          8,
          8,
          2,
          13,
          3,
          4,
          1,
          6,
          17,
          21,
          14,
          4,
          12,
          10,
          3,
          6,
          9,
          9,
          7,
          25,
          19,
          11,
          8,
          10,
          5,
          10,
          2,
          9,
          3,
          17,
          6,
          5,
          0,
          6,
          14,
          9,
          9,
          3,
          6,
          0,
          8,
          10,
          8,
          3,
          13,
          1,
          13,
          11,
          14,
          14,
          7,
          11,
          11,
          17,
          6,
          9,
          10,
          4,
          12,
          0,
          8,
          8,
          13,
          5,
          10,
          0,
          9,
          5,
          4,
          0,
          8,
          7,
          11,
          10,
          7,
          11,
          4,
          7,
          9,
          1,
          11,
          13,
          0,
          11,
          6,
          7,
          7,
          9,
          24,
          6,
          11,
          7,
          3,
          4,
          8,
          22,
          12,
          15,
          5,
          22,
          6,
          13,
          11,
          9,
          10,
          4,
          12,
          16,
          3,
          17,
          6,
          7,
          16,
          8,
          2
         ],
         "xaxis": "x",
         "yaxis": "y"
        },
        {
         "alignmentgroup": "True",
         "bingroup": "x",
         "hovertemplate": "Type of Student=Dom<br>Total PHQ-9 Scores=%{x}<br>count=%{y}<extra></extra>",
         "legendgroup": "Dom",
         "marker": {
          "color": "#EF553B",
          "pattern": {
           "shape": ""
          }
         },
         "name": "Dom",
         "offsetgroup": "Dom",
         "orientation": "v",
         "showlegend": true,
         "type": "histogram",
         "x": [
          12,
          9,
          7,
          3,
          10,
          6,
          6,
          0,
          13,
          9,
          7,
          20,
          21,
          23,
          2,
          13,
          7,
          11,
          5,
          1,
          8,
          8,
          11,
          11,
          0,
          8,
          16,
          7,
          2,
          14,
          9,
          10,
          15,
          10,
          12,
          11,
          11,
          10,
          3,
          4,
          18,
          9,
          5,
          2,
          7,
          10,
          7,
          6,
          9,
          2,
          13,
          10,
          9,
          6,
          0,
          13,
          9,
          9,
          17,
          13,
          0,
          11,
          8,
          2,
          9,
          1,
          7
         ],
         "xaxis": "x",
         "yaxis": "y"
        }
       ],
       "layout": {
        "barmode": "relative",
        "legend": {
         "title": {
          "text": "Type of Student"
         },
         "tracegroupgap": 0
        },
        "template": {
         "data": {
          "bar": [
           {
            "error_x": {
             "color": "#2a3f5f"
            },
            "error_y": {
             "color": "#2a3f5f"
            },
            "marker": {
             "line": {
              "color": "#E5ECF6",
              "width": 0.5
             },
             "pattern": {
              "fillmode": "overlay",
              "size": 10,
              "solidity": 0.2
             }
            },
            "type": "bar"
           }
          ],
          "barpolar": [
           {
            "marker": {
             "line": {
              "color": "#E5ECF6",
              "width": 0.5
             },
             "pattern": {
              "fillmode": "overlay",
              "size": 10,
              "solidity": 0.2
             }
            },
            "type": "barpolar"
           }
          ],
          "carpet": [
           {
            "aaxis": {
             "endlinecolor": "#2a3f5f",
             "gridcolor": "white",
             "linecolor": "white",
             "minorgridcolor": "white",
             "startlinecolor": "#2a3f5f"
            },
            "baxis": {
             "endlinecolor": "#2a3f5f",
             "gridcolor": "white",
             "linecolor": "white",
             "minorgridcolor": "white",
             "startlinecolor": "#2a3f5f"
            },
            "type": "carpet"
           }
          ],
          "choropleth": [
           {
            "colorbar": {
             "outlinewidth": 0,
             "ticks": ""
            },
            "type": "choropleth"
           }
          ],
          "contour": [
           {
            "colorbar": {
             "outlinewidth": 0,
             "ticks": ""
            },
            "colorscale": [
             [
              0,
              "#0d0887"
             ],
             [
              0.1111111111111111,
              "#46039f"
             ],
             [
              0.2222222222222222,
              "#7201a8"
             ],
             [
              0.3333333333333333,
              "#9c179e"
             ],
             [
              0.4444444444444444,
              "#bd3786"
             ],
             [
              0.5555555555555556,
              "#d8576b"
             ],
             [
              0.6666666666666666,
              "#ed7953"
             ],
             [
              0.7777777777777778,
              "#fb9f3a"
             ],
             [
              0.8888888888888888,
              "#fdca26"
             ],
             [
              1,
              "#f0f921"
             ]
            ],
            "type": "contour"
           }
          ],
          "contourcarpet": [
           {
            "colorbar": {
             "outlinewidth": 0,
             "ticks": ""
            },
            "type": "contourcarpet"
           }
          ],
          "heatmap": [
           {
            "colorbar": {
             "outlinewidth": 0,
             "ticks": ""
            },
            "colorscale": [
             [
              0,
              "#0d0887"
             ],
             [
              0.1111111111111111,
              "#46039f"
             ],
             [
              0.2222222222222222,
              "#7201a8"
             ],
             [
              0.3333333333333333,
              "#9c179e"
             ],
             [
              0.4444444444444444,
              "#bd3786"
             ],
             [
              0.5555555555555556,
              "#d8576b"
             ],
             [
              0.6666666666666666,
              "#ed7953"
             ],
             [
              0.7777777777777778,
              "#fb9f3a"
             ],
             [
              0.8888888888888888,
              "#fdca26"
             ],
             [
              1,
              "#f0f921"
             ]
            ],
            "type": "heatmap"
           }
          ],
          "heatmapgl": [
           {
            "colorbar": {
             "outlinewidth": 0,
             "ticks": ""
            },
            "colorscale": [
             [
              0,
              "#0d0887"
             ],
             [
              0.1111111111111111,
              "#46039f"
             ],
             [
              0.2222222222222222,
              "#7201a8"
             ],
             [
              0.3333333333333333,
              "#9c179e"
             ],
             [
              0.4444444444444444,
              "#bd3786"
             ],
             [
              0.5555555555555556,
              "#d8576b"
             ],
             [
              0.6666666666666666,
              "#ed7953"
             ],
             [
              0.7777777777777778,
              "#fb9f3a"
             ],
             [
              0.8888888888888888,
              "#fdca26"
             ],
             [
              1,
              "#f0f921"
             ]
            ],
            "type": "heatmapgl"
           }
          ],
          "histogram": [
           {
            "marker": {
             "pattern": {
              "fillmode": "overlay",
              "size": 10,
              "solidity": 0.2
             }
            },
            "type": "histogram"
           }
          ],
          "histogram2d": [
           {
            "colorbar": {
             "outlinewidth": 0,
             "ticks": ""
            },
            "colorscale": [
             [
              0,
              "#0d0887"
             ],
             [
              0.1111111111111111,
              "#46039f"
             ],
             [
              0.2222222222222222,
              "#7201a8"
             ],
             [
              0.3333333333333333,
              "#9c179e"
             ],
             [
              0.4444444444444444,
              "#bd3786"
             ],
             [
              0.5555555555555556,
              "#d8576b"
             ],
             [
              0.6666666666666666,
              "#ed7953"
             ],
             [
              0.7777777777777778,
              "#fb9f3a"
             ],
             [
              0.8888888888888888,
              "#fdca26"
             ],
             [
              1,
              "#f0f921"
             ]
            ],
            "type": "histogram2d"
           }
          ],
          "histogram2dcontour": [
           {
            "colorbar": {
             "outlinewidth": 0,
             "ticks": ""
            },
            "colorscale": [
             [
              0,
              "#0d0887"
             ],
             [
              0.1111111111111111,
              "#46039f"
             ],
             [
              0.2222222222222222,
              "#7201a8"
             ],
             [
              0.3333333333333333,
              "#9c179e"
             ],
             [
              0.4444444444444444,
              "#bd3786"
             ],
             [
              0.5555555555555556,
              "#d8576b"
             ],
             [
              0.6666666666666666,
              "#ed7953"
             ],
             [
              0.7777777777777778,
              "#fb9f3a"
             ],
             [
              0.8888888888888888,
              "#fdca26"
             ],
             [
              1,
              "#f0f921"
             ]
            ],
            "type": "histogram2dcontour"
           }
          ],
          "mesh3d": [
           {
            "colorbar": {
             "outlinewidth": 0,
             "ticks": ""
            },
            "type": "mesh3d"
           }
          ],
          "parcoords": [
           {
            "line": {
             "colorbar": {
              "outlinewidth": 0,
              "ticks": ""
             }
            },
            "type": "parcoords"
           }
          ],
          "pie": [
           {
            "automargin": true,
            "type": "pie"
           }
          ],
          "scatter": [
           {
            "fillpattern": {
             "fillmode": "overlay",
             "size": 10,
             "solidity": 0.2
            },
            "type": "scatter"
           }
          ],
          "scatter3d": [
           {
            "line": {
             "colorbar": {
              "outlinewidth": 0,
              "ticks": ""
             }
            },
            "marker": {
             "colorbar": {
              "outlinewidth": 0,
              "ticks": ""
             }
            },
            "type": "scatter3d"
           }
          ],
          "scattercarpet": [
           {
            "marker": {
             "colorbar": {
              "outlinewidth": 0,
              "ticks": ""
             }
            },
            "type": "scattercarpet"
           }
          ],
          "scattergeo": [
           {
            "marker": {
             "colorbar": {
              "outlinewidth": 0,
              "ticks": ""
             }
            },
            "type": "scattergeo"
           }
          ],
          "scattergl": [
           {
            "marker": {
             "colorbar": {
              "outlinewidth": 0,
              "ticks": ""
             }
            },
            "type": "scattergl"
           }
          ],
          "scattermapbox": [
           {
            "marker": {
             "colorbar": {
              "outlinewidth": 0,
              "ticks": ""
             }
            },
            "type": "scattermapbox"
           }
          ],
          "scatterpolar": [
           {
            "marker": {
             "colorbar": {
              "outlinewidth": 0,
              "ticks": ""
             }
            },
            "type": "scatterpolar"
           }
          ],
          "scatterpolargl": [
           {
            "marker": {
             "colorbar": {
              "outlinewidth": 0,
              "ticks": ""
             }
            },
            "type": "scatterpolargl"
           }
          ],
          "scatterternary": [
           {
            "marker": {
             "colorbar": {
              "outlinewidth": 0,
              "ticks": ""
             }
            },
            "type": "scatterternary"
           }
          ],
          "surface": [
           {
            "colorbar": {
             "outlinewidth": 0,
             "ticks": ""
            },
            "colorscale": [
             [
              0,
              "#0d0887"
             ],
             [
              0.1111111111111111,
              "#46039f"
             ],
             [
              0.2222222222222222,
              "#7201a8"
             ],
             [
              0.3333333333333333,
              "#9c179e"
             ],
             [
              0.4444444444444444,
              "#bd3786"
             ],
             [
              0.5555555555555556,
              "#d8576b"
             ],
             [
              0.6666666666666666,
              "#ed7953"
             ],
             [
              0.7777777777777778,
              "#fb9f3a"
             ],
             [
              0.8888888888888888,
              "#fdca26"
             ],
             [
              1,
              "#f0f921"
             ]
            ],
            "type": "surface"
           }
          ],
          "table": [
           {
            "cells": {
             "fill": {
              "color": "#EBF0F8"
             },
             "line": {
              "color": "white"
             }
            },
            "header": {
             "fill": {
              "color": "#C8D4E3"
             },
             "line": {
              "color": "white"
             }
            },
            "type": "table"
           }
          ]
         },
         "layout": {
          "annotationdefaults": {
           "arrowcolor": "#2a3f5f",
           "arrowhead": 0,
           "arrowwidth": 1
          },
          "autotypenumbers": "strict",
          "coloraxis": {
           "colorbar": {
            "outlinewidth": 0,
            "ticks": ""
           }
          },
          "colorscale": {
           "diverging": [
            [
             0,
             "#8e0152"
            ],
            [
             0.1,
             "#c51b7d"
            ],
            [
             0.2,
             "#de77ae"
            ],
            [
             0.3,
             "#f1b6da"
            ],
            [
             0.4,
             "#fde0ef"
            ],
            [
             0.5,
             "#f7f7f7"
            ],
            [
             0.6,
             "#e6f5d0"
            ],
            [
             0.7,
             "#b8e186"
            ],
            [
             0.8,
             "#7fbc41"
            ],
            [
             0.9,
             "#4d9221"
            ],
            [
             1,
             "#276419"
            ]
           ],
           "sequential": [
            [
             0,
             "#0d0887"
            ],
            [
             0.1111111111111111,
             "#46039f"
            ],
            [
             0.2222222222222222,
             "#7201a8"
            ],
            [
             0.3333333333333333,
             "#9c179e"
            ],
            [
             0.4444444444444444,
             "#bd3786"
            ],
            [
             0.5555555555555556,
             "#d8576b"
            ],
            [
             0.6666666666666666,
             "#ed7953"
            ],
            [
             0.7777777777777778,
             "#fb9f3a"
            ],
            [
             0.8888888888888888,
             "#fdca26"
            ],
            [
             1,
             "#f0f921"
            ]
           ],
           "sequentialminus": [
            [
             0,
             "#0d0887"
            ],
            [
             0.1111111111111111,
             "#46039f"
            ],
            [
             0.2222222222222222,
             "#7201a8"
            ],
            [
             0.3333333333333333,
             "#9c179e"
            ],
            [
             0.4444444444444444,
             "#bd3786"
            ],
            [
             0.5555555555555556,
             "#d8576b"
            ],
            [
             0.6666666666666666,
             "#ed7953"
            ],
            [
             0.7777777777777778,
             "#fb9f3a"
            ],
            [
             0.8888888888888888,
             "#fdca26"
            ],
            [
             1,
             "#f0f921"
            ]
           ]
          },
          "colorway": [
           "#636efa",
           "#EF553B",
           "#00cc96",
           "#ab63fa",
           "#FFA15A",
           "#19d3f3",
           "#FF6692",
           "#B6E880",
           "#FF97FF",
           "#FECB52"
          ],
          "font": {
           "color": "#2a3f5f"
          },
          "geo": {
           "bgcolor": "white",
           "lakecolor": "white",
           "landcolor": "#E5ECF6",
           "showlakes": true,
           "showland": true,
           "subunitcolor": "white"
          },
          "hoverlabel": {
           "align": "left"
          },
          "hovermode": "closest",
          "mapbox": {
           "style": "light"
          },
          "paper_bgcolor": "white",
          "plot_bgcolor": "#E5ECF6",
          "polar": {
           "angularaxis": {
            "gridcolor": "white",
            "linecolor": "white",
            "ticks": ""
           },
           "bgcolor": "#E5ECF6",
           "radialaxis": {
            "gridcolor": "white",
            "linecolor": "white",
            "ticks": ""
           }
          },
          "scene": {
           "xaxis": {
            "backgroundcolor": "#E5ECF6",
            "gridcolor": "white",
            "gridwidth": 2,
            "linecolor": "white",
            "showbackground": true,
            "ticks": "",
            "zerolinecolor": "white"
           },
           "yaxis": {
            "backgroundcolor": "#E5ECF6",
            "gridcolor": "white",
            "gridwidth": 2,
            "linecolor": "white",
            "showbackground": true,
            "ticks": "",
            "zerolinecolor": "white"
           },
           "zaxis": {
            "backgroundcolor": "#E5ECF6",
            "gridcolor": "white",
            "gridwidth": 2,
            "linecolor": "white",
            "showbackground": true,
            "ticks": "",
            "zerolinecolor": "white"
           }
          },
          "shapedefaults": {
           "line": {
            "color": "#2a3f5f"
           }
          },
          "ternary": {
           "aaxis": {
            "gridcolor": "white",
            "linecolor": "white",
            "ticks": ""
           },
           "baxis": {
            "gridcolor": "white",
            "linecolor": "white",
            "ticks": ""
           },
           "bgcolor": "#E5ECF6",
           "caxis": {
            "gridcolor": "white",
            "linecolor": "white",
            "ticks": ""
           }
          },
          "title": {
           "x": 0.05
          },
          "xaxis": {
           "automargin": true,
           "gridcolor": "white",
           "linecolor": "white",
           "ticks": "",
           "title": {
            "standoff": 15
           },
           "zerolinecolor": "white",
           "zerolinewidth": 2
          },
          "yaxis": {
           "automargin": true,
           "gridcolor": "white",
           "linecolor": "white",
           "ticks": "",
           "title": {
            "standoff": 15
           },
           "zerolinecolor": "white",
           "zerolinewidth": 2
          }
         }
        },
        "title": {
         "text": "Distribution of the total scores from the PHQ-9 test"
        },
        "xaxis": {
         "anchor": "y",
         "domain": [
          0,
          1
         ],
         "title": {
          "text": "Total PHQ-9 Scores"
         }
        },
        "yaxis": {
         "anchor": "x",
         "domain": [
          0,
          1
         ],
         "title": {
          "text": "count"
         }
        }
       }
      },
      "text/html": [
       "<div>                            <div id=\"540c780e-6bc3-4acd-8eac-890f6a9641c6\" class=\"plotly-graph-div\" style=\"height:525px; width:100%;\"></div>            <script type=\"text/javascript\">                require([\"plotly\"], function(Plotly) {                    window.PLOTLYENV=window.PLOTLYENV || {};                                    if (document.getElementById(\"540c780e-6bc3-4acd-8eac-890f6a9641c6\")) {                    Plotly.newPlot(                        \"540c780e-6bc3-4acd-8eac-890f6a9641c6\",                        [{\"alignmentgroup\":\"True\",\"bingroup\":\"x\",\"hovertemplate\":\"Type of Student=Inter<br>Total PHQ-9 Scores=%{x}<br>count=%{y}<extra></extra>\",\"legendgroup\":\"Inter\",\"marker\":{\"color\":\"#636efa\",\"pattern\":{\"shape\":\"\"}},\"name\":\"Inter\",\"offsetgroup\":\"Inter\",\"orientation\":\"v\",\"showlegend\":true,\"x\":[0.0,2.0,2.0,3.0,3.0,6.0,3.0,9.0,7.0,3.0,5.0,8.0,1.0,3.0,9.0,6.0,3.0,3.0,7.0,1.0,4.0,3.0,13.0,1.0,8.0,10.0,13.0,9.0,6.0,7.0,10.0,9.0,9.0,2.0,9.0,14.0,4.0,14.0,13.0,15.0,6.0,4.0,10.0,12.0,6.0,7.0,13.0,2.0,0.0,6.0,19.0,9.0,10.0,8.0,5.0,8.0,17.0,12.0,8.0,7.0,5.0,2.0,8.0,7.0,5.0,9.0,11.0,9.0,5.0,14.0,9.0,5.0,6.0,4.0,2.0,10.0,11.0,10.0,13.0,6.0,6.0,10.0,2.0,0.0,13.0,13.0,8.0,8.0,2.0,13.0,3.0,4.0,1.0,6.0,17.0,21.0,14.0,4.0,12.0,10.0,3.0,6.0,9.0,9.0,7.0,25.0,19.0,11.0,8.0,10.0,5.0,10.0,2.0,9.0,3.0,17.0,6.0,5.0,0.0,6.0,14.0,9.0,9.0,3.0,6.0,0.0,8.0,10.0,8.0,3.0,13.0,1.0,13.0,11.0,14.0,14.0,7.0,11.0,11.0,17.0,6.0,9.0,10.0,4.0,12.0,0.0,8.0,8.0,13.0,5.0,10.0,0.0,9.0,5.0,4.0,0.0,8.0,7.0,11.0,10.0,7.0,11.0,4.0,7.0,9.0,1.0,11.0,13.0,0.0,11.0,6.0,7.0,7.0,9.0,24.0,6.0,11.0,7.0,3.0,4.0,8.0,22.0,12.0,15.0,5.0,22.0,6.0,13.0,11.0,9.0,10.0,4.0,12.0,16.0,3.0,17.0,6.0,7.0,16.0,8.0,2.0],\"xaxis\":\"x\",\"yaxis\":\"y\",\"type\":\"histogram\"},{\"alignmentgroup\":\"True\",\"bingroup\":\"x\",\"hovertemplate\":\"Type of Student=Dom<br>Total PHQ-9 Scores=%{x}<br>count=%{y}<extra></extra>\",\"legendgroup\":\"Dom\",\"marker\":{\"color\":\"#EF553B\",\"pattern\":{\"shape\":\"\"}},\"name\":\"Dom\",\"offsetgroup\":\"Dom\",\"orientation\":\"v\",\"showlegend\":true,\"x\":[12.0,9.0,7.0,3.0,10.0,6.0,6.0,0.0,13.0,9.0,7.0,20.0,21.0,23.0,2.0,13.0,7.0,11.0,5.0,1.0,8.0,8.0,11.0,11.0,0.0,8.0,16.0,7.0,2.0,14.0,9.0,10.0,15.0,10.0,12.0,11.0,11.0,10.0,3.0,4.0,18.0,9.0,5.0,2.0,7.0,10.0,7.0,6.0,9.0,2.0,13.0,10.0,9.0,6.0,0.0,13.0,9.0,9.0,17.0,13.0,0.0,11.0,8.0,2.0,9.0,1.0,7.0],\"xaxis\":\"x\",\"yaxis\":\"y\",\"type\":\"histogram\"}],                        {\"template\":{\"data\":{\"histogram2dcontour\":[{\"type\":\"histogram2dcontour\",\"colorbar\":{\"outlinewidth\":0,\"ticks\":\"\"},\"colorscale\":[[0.0,\"#0d0887\"],[0.1111111111111111,\"#46039f\"],[0.2222222222222222,\"#7201a8\"],[0.3333333333333333,\"#9c179e\"],[0.4444444444444444,\"#bd3786\"],[0.5555555555555556,\"#d8576b\"],[0.6666666666666666,\"#ed7953\"],[0.7777777777777778,\"#fb9f3a\"],[0.8888888888888888,\"#fdca26\"],[1.0,\"#f0f921\"]]}],\"choropleth\":[{\"type\":\"choropleth\",\"colorbar\":{\"outlinewidth\":0,\"ticks\":\"\"}}],\"histogram2d\":[{\"type\":\"histogram2d\",\"colorbar\":{\"outlinewidth\":0,\"ticks\":\"\"},\"colorscale\":[[0.0,\"#0d0887\"],[0.1111111111111111,\"#46039f\"],[0.2222222222222222,\"#7201a8\"],[0.3333333333333333,\"#9c179e\"],[0.4444444444444444,\"#bd3786\"],[0.5555555555555556,\"#d8576b\"],[0.6666666666666666,\"#ed7953\"],[0.7777777777777778,\"#fb9f3a\"],[0.8888888888888888,\"#fdca26\"],[1.0,\"#f0f921\"]]}],\"heatmap\":[{\"type\":\"heatmap\",\"colorbar\":{\"outlinewidth\":0,\"ticks\":\"\"},\"colorscale\":[[0.0,\"#0d0887\"],[0.1111111111111111,\"#46039f\"],[0.2222222222222222,\"#7201a8\"],[0.3333333333333333,\"#9c179e\"],[0.4444444444444444,\"#bd3786\"],[0.5555555555555556,\"#d8576b\"],[0.6666666666666666,\"#ed7953\"],[0.7777777777777778,\"#fb9f3a\"],[0.8888888888888888,\"#fdca26\"],[1.0,\"#f0f921\"]]}],\"heatmapgl\":[{\"type\":\"heatmapgl\",\"colorbar\":{\"outlinewidth\":0,\"ticks\":\"\"},\"colorscale\":[[0.0,\"#0d0887\"],[0.1111111111111111,\"#46039f\"],[0.2222222222222222,\"#7201a8\"],[0.3333333333333333,\"#9c179e\"],[0.4444444444444444,\"#bd3786\"],[0.5555555555555556,\"#d8576b\"],[0.6666666666666666,\"#ed7953\"],[0.7777777777777778,\"#fb9f3a\"],[0.8888888888888888,\"#fdca26\"],[1.0,\"#f0f921\"]]}],\"contourcarpet\":[{\"type\":\"contourcarpet\",\"colorbar\":{\"outlinewidth\":0,\"ticks\":\"\"}}],\"contour\":[{\"type\":\"contour\",\"colorbar\":{\"outlinewidth\":0,\"ticks\":\"\"},\"colorscale\":[[0.0,\"#0d0887\"],[0.1111111111111111,\"#46039f\"],[0.2222222222222222,\"#7201a8\"],[0.3333333333333333,\"#9c179e\"],[0.4444444444444444,\"#bd3786\"],[0.5555555555555556,\"#d8576b\"],[0.6666666666666666,\"#ed7953\"],[0.7777777777777778,\"#fb9f3a\"],[0.8888888888888888,\"#fdca26\"],[1.0,\"#f0f921\"]]}],\"surface\":[{\"type\":\"surface\",\"colorbar\":{\"outlinewidth\":0,\"ticks\":\"\"},\"colorscale\":[[0.0,\"#0d0887\"],[0.1111111111111111,\"#46039f\"],[0.2222222222222222,\"#7201a8\"],[0.3333333333333333,\"#9c179e\"],[0.4444444444444444,\"#bd3786\"],[0.5555555555555556,\"#d8576b\"],[0.6666666666666666,\"#ed7953\"],[0.7777777777777778,\"#fb9f3a\"],[0.8888888888888888,\"#fdca26\"],[1.0,\"#f0f921\"]]}],\"mesh3d\":[{\"type\":\"mesh3d\",\"colorbar\":{\"outlinewidth\":0,\"ticks\":\"\"}}],\"scatter\":[{\"fillpattern\":{\"fillmode\":\"overlay\",\"size\":10,\"solidity\":0.2},\"type\":\"scatter\"}],\"parcoords\":[{\"type\":\"parcoords\",\"line\":{\"colorbar\":{\"outlinewidth\":0,\"ticks\":\"\"}}}],\"scatterpolargl\":[{\"type\":\"scatterpolargl\",\"marker\":{\"colorbar\":{\"outlinewidth\":0,\"ticks\":\"\"}}}],\"bar\":[{\"error_x\":{\"color\":\"#2a3f5f\"},\"error_y\":{\"color\":\"#2a3f5f\"},\"marker\":{\"line\":{\"color\":\"#E5ECF6\",\"width\":0.5},\"pattern\":{\"fillmode\":\"overlay\",\"size\":10,\"solidity\":0.2}},\"type\":\"bar\"}],\"scattergeo\":[{\"type\":\"scattergeo\",\"marker\":{\"colorbar\":{\"outlinewidth\":0,\"ticks\":\"\"}}}],\"scatterpolar\":[{\"type\":\"scatterpolar\",\"marker\":{\"colorbar\":{\"outlinewidth\":0,\"ticks\":\"\"}}}],\"histogram\":[{\"marker\":{\"pattern\":{\"fillmode\":\"overlay\",\"size\":10,\"solidity\":0.2}},\"type\":\"histogram\"}],\"scattergl\":[{\"type\":\"scattergl\",\"marker\":{\"colorbar\":{\"outlinewidth\":0,\"ticks\":\"\"}}}],\"scatter3d\":[{\"type\":\"scatter3d\",\"line\":{\"colorbar\":{\"outlinewidth\":0,\"ticks\":\"\"}},\"marker\":{\"colorbar\":{\"outlinewidth\":0,\"ticks\":\"\"}}}],\"scattermapbox\":[{\"type\":\"scattermapbox\",\"marker\":{\"colorbar\":{\"outlinewidth\":0,\"ticks\":\"\"}}}],\"scatterternary\":[{\"type\":\"scatterternary\",\"marker\":{\"colorbar\":{\"outlinewidth\":0,\"ticks\":\"\"}}}],\"scattercarpet\":[{\"type\":\"scattercarpet\",\"marker\":{\"colorbar\":{\"outlinewidth\":0,\"ticks\":\"\"}}}],\"carpet\":[{\"aaxis\":{\"endlinecolor\":\"#2a3f5f\",\"gridcolor\":\"white\",\"linecolor\":\"white\",\"minorgridcolor\":\"white\",\"startlinecolor\":\"#2a3f5f\"},\"baxis\":{\"endlinecolor\":\"#2a3f5f\",\"gridcolor\":\"white\",\"linecolor\":\"white\",\"minorgridcolor\":\"white\",\"startlinecolor\":\"#2a3f5f\"},\"type\":\"carpet\"}],\"table\":[{\"cells\":{\"fill\":{\"color\":\"#EBF0F8\"},\"line\":{\"color\":\"white\"}},\"header\":{\"fill\":{\"color\":\"#C8D4E3\"},\"line\":{\"color\":\"white\"}},\"type\":\"table\"}],\"barpolar\":[{\"marker\":{\"line\":{\"color\":\"#E5ECF6\",\"width\":0.5},\"pattern\":{\"fillmode\":\"overlay\",\"size\":10,\"solidity\":0.2}},\"type\":\"barpolar\"}],\"pie\":[{\"automargin\":true,\"type\":\"pie\"}]},\"layout\":{\"autotypenumbers\":\"strict\",\"colorway\":[\"#636efa\",\"#EF553B\",\"#00cc96\",\"#ab63fa\",\"#FFA15A\",\"#19d3f3\",\"#FF6692\",\"#B6E880\",\"#FF97FF\",\"#FECB52\"],\"font\":{\"color\":\"#2a3f5f\"},\"hovermode\":\"closest\",\"hoverlabel\":{\"align\":\"left\"},\"paper_bgcolor\":\"white\",\"plot_bgcolor\":\"#E5ECF6\",\"polar\":{\"bgcolor\":\"#E5ECF6\",\"angularaxis\":{\"gridcolor\":\"white\",\"linecolor\":\"white\",\"ticks\":\"\"},\"radialaxis\":{\"gridcolor\":\"white\",\"linecolor\":\"white\",\"ticks\":\"\"}},\"ternary\":{\"bgcolor\":\"#E5ECF6\",\"aaxis\":{\"gridcolor\":\"white\",\"linecolor\":\"white\",\"ticks\":\"\"},\"baxis\":{\"gridcolor\":\"white\",\"linecolor\":\"white\",\"ticks\":\"\"},\"caxis\":{\"gridcolor\":\"white\",\"linecolor\":\"white\",\"ticks\":\"\"}},\"coloraxis\":{\"colorbar\":{\"outlinewidth\":0,\"ticks\":\"\"}},\"colorscale\":{\"sequential\":[[0.0,\"#0d0887\"],[0.1111111111111111,\"#46039f\"],[0.2222222222222222,\"#7201a8\"],[0.3333333333333333,\"#9c179e\"],[0.4444444444444444,\"#bd3786\"],[0.5555555555555556,\"#d8576b\"],[0.6666666666666666,\"#ed7953\"],[0.7777777777777778,\"#fb9f3a\"],[0.8888888888888888,\"#fdca26\"],[1.0,\"#f0f921\"]],\"sequentialminus\":[[0.0,\"#0d0887\"],[0.1111111111111111,\"#46039f\"],[0.2222222222222222,\"#7201a8\"],[0.3333333333333333,\"#9c179e\"],[0.4444444444444444,\"#bd3786\"],[0.5555555555555556,\"#d8576b\"],[0.6666666666666666,\"#ed7953\"],[0.7777777777777778,\"#fb9f3a\"],[0.8888888888888888,\"#fdca26\"],[1.0,\"#f0f921\"]],\"diverging\":[[0,\"#8e0152\"],[0.1,\"#c51b7d\"],[0.2,\"#de77ae\"],[0.3,\"#f1b6da\"],[0.4,\"#fde0ef\"],[0.5,\"#f7f7f7\"],[0.6,\"#e6f5d0\"],[0.7,\"#b8e186\"],[0.8,\"#7fbc41\"],[0.9,\"#4d9221\"],[1,\"#276419\"]]},\"xaxis\":{\"gridcolor\":\"white\",\"linecolor\":\"white\",\"ticks\":\"\",\"title\":{\"standoff\":15},\"zerolinecolor\":\"white\",\"automargin\":true,\"zerolinewidth\":2},\"yaxis\":{\"gridcolor\":\"white\",\"linecolor\":\"white\",\"ticks\":\"\",\"title\":{\"standoff\":15},\"zerolinecolor\":\"white\",\"automargin\":true,\"zerolinewidth\":2},\"scene\":{\"xaxis\":{\"backgroundcolor\":\"#E5ECF6\",\"gridcolor\":\"white\",\"linecolor\":\"white\",\"showbackground\":true,\"ticks\":\"\",\"zerolinecolor\":\"white\",\"gridwidth\":2},\"yaxis\":{\"backgroundcolor\":\"#E5ECF6\",\"gridcolor\":\"white\",\"linecolor\":\"white\",\"showbackground\":true,\"ticks\":\"\",\"zerolinecolor\":\"white\",\"gridwidth\":2},\"zaxis\":{\"backgroundcolor\":\"#E5ECF6\",\"gridcolor\":\"white\",\"linecolor\":\"white\",\"showbackground\":true,\"ticks\":\"\",\"zerolinecolor\":\"white\",\"gridwidth\":2}},\"shapedefaults\":{\"line\":{\"color\":\"#2a3f5f\"}},\"annotationdefaults\":{\"arrowcolor\":\"#2a3f5f\",\"arrowhead\":0,\"arrowwidth\":1},\"geo\":{\"bgcolor\":\"white\",\"landcolor\":\"#E5ECF6\",\"subunitcolor\":\"white\",\"showland\":true,\"showlakes\":true,\"lakecolor\":\"white\"},\"title\":{\"x\":0.05},\"mapbox\":{\"style\":\"light\"}}},\"xaxis\":{\"anchor\":\"y\",\"domain\":[0.0,1.0],\"title\":{\"text\":\"Total PHQ-9 Scores\"}},\"yaxis\":{\"anchor\":\"x\",\"domain\":[0.0,1.0],\"title\":{\"text\":\"count\"}},\"legend\":{\"title\":{\"text\":\"Type of Student\"},\"tracegroupgap\":0},\"title\":{\"text\":\"Distribution of the total scores from the PHQ-9 test\"},\"barmode\":\"relative\"},                        {\"responsive\": true}                    ).then(function(){\n",
       "                            \n",
       "var gd = document.getElementById('540c780e-6bc3-4acd-8eac-890f6a9641c6');\n",
       "var x = new MutationObserver(function (mutations, observer) {{\n",
       "        var display = window.getComputedStyle(gd).display;\n",
       "        if (!display || display === 'none') {{\n",
       "            console.log([gd, 'removed!']);\n",
       "            Plotly.purge(gd);\n",
       "            observer.disconnect();\n",
       "        }}\n",
       "}});\n",
       "\n",
       "// Listen for the removal of the full notebook cells\n",
       "var notebookContainer = gd.closest('#notebook-container');\n",
       "if (notebookContainer) {{\n",
       "    x.observe(notebookContainer, {childList: true});\n",
       "}}\n",
       "\n",
       "// Listen for the clearing of the current output cell\n",
       "var outputEl = gd.closest('.output');\n",
       "if (outputEl) {{\n",
       "    x.observe(outputEl, {childList: true});\n",
       "}}\n",
       "\n",
       "                        })                };                });            </script>        </div>"
      ]
     },
     "metadata": {},
     "output_type": "display_data"
    }
   ],
   "source": [
    "#Create a histogram to show PHQ-9 test scores\n",
    "\n",
    "fig = px.histogram(\n",
    "\n",
    "#Select the dataframe\n",
    "\n",
    "data_frame = mental,\n",
    "\n",
    "#Select column to visualize\n",
    "\n",
    "x = 'ToDep',\n",
    "\n",
    "#Select additional column to determine groups of data\n",
    "\n",
    "color = 'inter_dom',\n",
    "\n",
    "#Clean up the labels\n",
    "\n",
    "title = 'Distribution of the total scores from the PHQ-9 test',\n",
    "labels = {'inter_dom':'Type of Student', 'ToDep':'Total PHQ-9 Scores'})\n",
    "\n",
    "#Show the figure\n",
    "\n",
    "fig.show()"
   ]
  },
  {
   "cell_type": "code",
   "execution_count": 38,
   "id": "827a5c1f",
   "metadata": {},
   "outputs": [
    {
     "data": {
      "application/vnd.plotly.v1+json": {
       "config": {
        "plotlyServerURL": "https://plot.ly"
       },
       "data": [
        {
         "alignmentgroup": "True",
         "boxpoints": "all",
         "customdata": [
          [
           24
          ],
          [
           28
          ],
          [
           25
          ],
          [
           29
          ],
          [
           28
          ],
          [
           24
          ],
          [
           23
          ],
          [
           30
          ],
          [
           25
          ],
          [
           31
          ],
          [
           28
          ],
          [
           31
          ],
          [
           29
          ],
          [
           23
          ],
          [
           31
          ],
          [
           30
          ],
          [
           31
          ],
          [
           29
          ],
          [
           19
          ],
          [
           25
          ],
          [
           18
          ],
          [
           18
          ],
          [
           19
          ],
          [
           20
          ],
          [
           29
          ],
          [
           25
          ],
          [
           30
          ],
          [
           17
          ],
          [
           20
          ],
          [
           19
          ],
          [
           18
          ],
          [
           21
          ],
          [
           22
          ],
          [
           20
          ],
          [
           19
          ],
          [
           21
          ],
          [
           22
          ],
          [
           18
          ],
          [
           21
          ],
          [
           22
          ],
          [
           19
          ],
          [
           24
          ],
          [
           19
          ],
          [
           18
          ],
          [
           20
          ],
          [
           23
          ],
          [
           23
          ],
          [
           20
          ],
          [
           20
          ],
          [
           21
          ],
          [
           23
          ],
          [
           20
          ],
          [
           23
          ],
          [
           20
          ],
          [
           21
          ],
          [
           21
          ],
          [
           19
          ],
          [
           18
          ],
          [
           20
          ],
          [
           18
          ],
          [
           20
          ],
          [
           18
          ],
          [
           21
          ],
          [
           20
          ],
          [
           19
          ],
          [
           18
          ],
          [
           21
          ],
          [
           20
          ],
          [
           18
          ],
          [
           19
          ],
          [
           22
          ],
          [
           19
          ],
          [
           20
          ],
          [
           19
          ],
          [
           24
          ],
          [
           21
          ],
          [
           20
          ],
          [
           23
          ],
          [
           19
          ],
          [
           19
          ],
          [
           19
          ],
          [
           20
          ],
          [
           20
          ],
          [
           21
          ],
          [
           21
          ],
          [
           21
          ],
          [
           18
          ],
          [
           19
          ],
          [
           21
          ],
          [
           18
          ],
          [
           19
          ],
          [
           22
          ],
          [
           19
          ],
          [
           21
          ],
          [
           19
          ],
          [
           23
          ],
          [
           20
          ],
          [
           20
          ],
          [
           21
          ],
          [
           20
          ],
          [
           20
          ],
          [
           23
          ],
          [
           21
          ],
          [
           20
          ],
          [
           23
          ],
          [
           19
          ],
          [
           21
          ],
          [
           21
          ],
          [
           18
          ],
          [
           19
          ],
          [
           17
          ],
          [
           18
          ],
          [
           19
          ],
          [
           22
          ],
          [
           23
          ],
          [
           21
          ],
          [
           22
          ],
          [
           21
          ],
          [
           21
          ],
          [
           20
          ],
          [
           23
          ],
          [
           18
          ],
          [
           21
          ],
          [
           18
          ],
          [
           22
          ],
          [
           17
          ],
          [
           19
          ],
          [
           27
          ],
          [
           18
          ],
          [
           19
          ],
          [
           20
          ],
          [
           19
          ],
          [
           19
          ],
          [
           21
          ],
          [
           21
          ],
          [
           22
          ],
          [
           22
          ],
          [
           21
          ],
          [
           21
          ],
          [
           19
          ],
          [
           21
          ],
          [
           21
          ],
          [
           22
          ],
          [
           18
          ],
          [
           20
          ],
          [
           20
          ],
          [
           24
          ],
          [
           24
          ],
          [
           18
          ],
          [
           21
          ],
          [
           19
          ],
          [
           19
          ],
          [
           20
          ],
          [
           21
          ],
          [
           18
          ],
          [
           21
          ],
          [
           21
          ],
          [
           19
          ],
          [
           21
          ],
          [
           19
          ],
          [
           20
          ],
          [
           19
          ],
          [
           19
          ],
          [
           19
          ],
          [
           25
          ],
          [
           21
          ],
          [
           18
          ],
          [
           19
          ],
          [
           25
          ],
          [
           18
          ],
          [
           19
          ],
          [
           20
          ],
          [
           21
          ],
          [
           19
          ],
          [
           20
          ],
          [
           19
          ],
          [
           22
          ],
          [
           22
          ],
          [
           19
          ],
          [
           19
          ],
          [
           18
          ],
          [
           18
          ],
          [
           20
          ],
          [
           19
          ],
          [
           18
          ],
          [
           21
          ],
          [
           22
          ],
          [
           25
          ],
          [
           19
          ],
          [
           25
          ],
          [
           18
          ],
          [
           25
          ],
          [
           18
          ],
          [
           20
          ],
          [
           20
          ],
          [
           21
          ],
          [
           21
          ],
          [
           20
          ],
          [
           21
          ],
          [
           18
          ],
          [
           20
          ]
         ],
         "hovertemplate": "Type of Student=Inter<br>Total ToAS Scores=%{x}<br>Age=%{customdata[0]}<extra></extra>",
         "legendgroup": "Inter",
         "marker": {
          "color": "#636efa"
         },
         "name": "Inter",
         "notched": false,
         "offsetgroup": "Inter",
         "orientation": "h",
         "showlegend": true,
         "type": "box",
         "x": [
          91,
          39,
          51,
          75,
          82,
          83,
          58,
          127,
          109,
          51,
          92,
          95,
          54,
          57,
          112,
          74,
          63,
          47,
          55,
          60,
          66,
          66,
          94,
          123,
          78,
          65,
          91,
          88,
          39,
          72,
          66,
          73,
          73,
          45,
          50,
          63,
          63,
          68,
          50,
          92,
          59,
          78,
          41,
          94,
          36,
          83,
          83,
          109,
          58,
          36,
          104,
          78,
          108,
          54,
          68,
          86,
          102,
          88,
          81,
          72,
          66,
          104,
          86,
          63,
          89,
          64,
          96,
          73,
          53,
          90,
          40,
          55,
          83,
          59,
          64,
          74,
          122,
          56,
          97,
          64,
          57,
          89,
          85,
          45,
          101,
          84,
          112,
          73,
          67,
          94,
          91,
          41,
          105,
          71,
          63,
          101,
          92,
          36,
          87,
          36,
          36,
          88,
          91,
          75,
          92,
          125,
          101,
          100,
          103,
          79,
          70,
          67,
          105,
          86,
          63,
          70,
          58,
          58,
          41,
          56,
          82,
          88,
          80,
          50,
          75,
          54,
          79,
          42,
          99,
          80,
          94,
          54,
          81,
          85,
          97,
          132,
          73,
          85,
          85,
          77,
          120,
          108,
          61,
          79,
          102,
          36,
          65,
          65,
          104,
          53,
          52,
          46,
          81,
          46,
          81,
          36,
          64,
          105,
          50,
          47,
          41,
          64,
          55,
          72,
          90,
          46,
          79,
          83,
          77,
          101,
          60,
          66,
          62,
          68,
          84,
          76,
          87,
          68,
          63,
          84,
          65,
          98,
          87,
          85,
          62,
          44,
          37,
          129,
          82,
          101,
          83,
          45,
          83,
          95,
          68,
          133,
          82,
          145,
          110,
          68,
          57
         ],
         "x0": " ",
         "xaxis": "x",
         "y0": " ",
         "yaxis": "y"
        },
        {
         "alignmentgroup": "True",
         "boxpoints": "all",
         "customdata": [
          [
           27
          ],
          [
           18
          ],
          [
           21
          ],
          [
           20
          ],
          [
           21
          ],
          [
           20
          ],
          [
           18
          ],
          [
           22
          ],
          [
           22
          ],
          [
           20
          ],
          [
           21
          ],
          [
           21
          ],
          [
           20
          ],
          [
           21
          ],
          [
           21
          ],
          [
           20
          ],
          [
           21
          ],
          [
           21
          ],
          [
           22
          ],
          [
           21
          ],
          [
           21
          ],
          [
           19
          ],
          [
           23
          ],
          [
           18
          ],
          [
           18
          ],
          [
           18
          ],
          [
           18
          ],
          [
           18
          ],
          [
           20
          ],
          [
           20
          ],
          [
           19
          ],
          [
           20
          ],
          [
           21
          ],
          [
           23
          ],
          [
           20
          ],
          [
           21
          ],
          [
           19
          ],
          [
           20
          ],
          [
           20
          ],
          [
           21
          ],
          [
           20
          ],
          [
           19
          ],
          [
           20
          ],
          [
           20
          ],
          [
           19
          ],
          [
           24
          ],
          [
           22
          ],
          [
           21
          ],
          [
           19
          ],
          [
           23
          ],
          [
           23
          ],
          [
           21
          ],
          [
           18
          ],
          [
           21
          ],
          [
           22
          ],
          [
           20
          ],
          [
           19
          ],
          [
           18
          ],
          [
           19
          ],
          [
           20
          ],
          [
           21
          ],
          [
           22
          ],
          [
           21
          ],
          [
           22
          ],
          [
           19
          ],
          [
           19
          ],
          [
           20
          ]
         ],
         "hovertemplate": "Type of Student=Dom<br>Total ToAS Scores=%{x}<br>Age=%{customdata[0]}<extra></extra>",
         "legendgroup": "Dom",
         "marker": {
          "color": "#EF553B"
         },
         "name": "Dom",
         "notched": false,
         "offsetgroup": "Dom",
         "orientation": "h",
         "showlegend": true,
         "type": "box",
         "x": [
          81,
          37,
          72,
          43,
          36,
          56,
          71,
          36,
          96,
          37,
          90,
          75,
          77,
          43,
          52,
          66,
          65,
          96,
          44,
          49,
          36,
          60,
          74,
          60,
          42,
          90,
          90,
          81,
          39,
          112,
          89,
          65,
          49,
          75,
          66,
          82,
          72,
          40,
          58,
          36,
          57,
          43,
          72,
          42,
          84,
          67,
          37,
          69,
          95,
          58,
          109,
          60,
          64,
          40,
          36,
          76,
          67,
          44,
          74,
          94,
          36,
          76,
          74,
          50,
          43,
          44,
          61
         ],
         "x0": " ",
         "xaxis": "x",
         "y0": " ",
         "yaxis": "y"
        }
       ],
       "layout": {
        "boxmode": "group",
        "legend": {
         "title": {
          "text": "Type of Student"
         },
         "tracegroupgap": 0
        },
        "template": {
         "data": {
          "bar": [
           {
            "error_x": {
             "color": "#2a3f5f"
            },
            "error_y": {
             "color": "#2a3f5f"
            },
            "marker": {
             "line": {
              "color": "#E5ECF6",
              "width": 0.5
             },
             "pattern": {
              "fillmode": "overlay",
              "size": 10,
              "solidity": 0.2
             }
            },
            "type": "bar"
           }
          ],
          "barpolar": [
           {
            "marker": {
             "line": {
              "color": "#E5ECF6",
              "width": 0.5
             },
             "pattern": {
              "fillmode": "overlay",
              "size": 10,
              "solidity": 0.2
             }
            },
            "type": "barpolar"
           }
          ],
          "carpet": [
           {
            "aaxis": {
             "endlinecolor": "#2a3f5f",
             "gridcolor": "white",
             "linecolor": "white",
             "minorgridcolor": "white",
             "startlinecolor": "#2a3f5f"
            },
            "baxis": {
             "endlinecolor": "#2a3f5f",
             "gridcolor": "white",
             "linecolor": "white",
             "minorgridcolor": "white",
             "startlinecolor": "#2a3f5f"
            },
            "type": "carpet"
           }
          ],
          "choropleth": [
           {
            "colorbar": {
             "outlinewidth": 0,
             "ticks": ""
            },
            "type": "choropleth"
           }
          ],
          "contour": [
           {
            "colorbar": {
             "outlinewidth": 0,
             "ticks": ""
            },
            "colorscale": [
             [
              0,
              "#0d0887"
             ],
             [
              0.1111111111111111,
              "#46039f"
             ],
             [
              0.2222222222222222,
              "#7201a8"
             ],
             [
              0.3333333333333333,
              "#9c179e"
             ],
             [
              0.4444444444444444,
              "#bd3786"
             ],
             [
              0.5555555555555556,
              "#d8576b"
             ],
             [
              0.6666666666666666,
              "#ed7953"
             ],
             [
              0.7777777777777778,
              "#fb9f3a"
             ],
             [
              0.8888888888888888,
              "#fdca26"
             ],
             [
              1,
              "#f0f921"
             ]
            ],
            "type": "contour"
           }
          ],
          "contourcarpet": [
           {
            "colorbar": {
             "outlinewidth": 0,
             "ticks": ""
            },
            "type": "contourcarpet"
           }
          ],
          "heatmap": [
           {
            "colorbar": {
             "outlinewidth": 0,
             "ticks": ""
            },
            "colorscale": [
             [
              0,
              "#0d0887"
             ],
             [
              0.1111111111111111,
              "#46039f"
             ],
             [
              0.2222222222222222,
              "#7201a8"
             ],
             [
              0.3333333333333333,
              "#9c179e"
             ],
             [
              0.4444444444444444,
              "#bd3786"
             ],
             [
              0.5555555555555556,
              "#d8576b"
             ],
             [
              0.6666666666666666,
              "#ed7953"
             ],
             [
              0.7777777777777778,
              "#fb9f3a"
             ],
             [
              0.8888888888888888,
              "#fdca26"
             ],
             [
              1,
              "#f0f921"
             ]
            ],
            "type": "heatmap"
           }
          ],
          "heatmapgl": [
           {
            "colorbar": {
             "outlinewidth": 0,
             "ticks": ""
            },
            "colorscale": [
             [
              0,
              "#0d0887"
             ],
             [
              0.1111111111111111,
              "#46039f"
             ],
             [
              0.2222222222222222,
              "#7201a8"
             ],
             [
              0.3333333333333333,
              "#9c179e"
             ],
             [
              0.4444444444444444,
              "#bd3786"
             ],
             [
              0.5555555555555556,
              "#d8576b"
             ],
             [
              0.6666666666666666,
              "#ed7953"
             ],
             [
              0.7777777777777778,
              "#fb9f3a"
             ],
             [
              0.8888888888888888,
              "#fdca26"
             ],
             [
              1,
              "#f0f921"
             ]
            ],
            "type": "heatmapgl"
           }
          ],
          "histogram": [
           {
            "marker": {
             "pattern": {
              "fillmode": "overlay",
              "size": 10,
              "solidity": 0.2
             }
            },
            "type": "histogram"
           }
          ],
          "histogram2d": [
           {
            "colorbar": {
             "outlinewidth": 0,
             "ticks": ""
            },
            "colorscale": [
             [
              0,
              "#0d0887"
             ],
             [
              0.1111111111111111,
              "#46039f"
             ],
             [
              0.2222222222222222,
              "#7201a8"
             ],
             [
              0.3333333333333333,
              "#9c179e"
             ],
             [
              0.4444444444444444,
              "#bd3786"
             ],
             [
              0.5555555555555556,
              "#d8576b"
             ],
             [
              0.6666666666666666,
              "#ed7953"
             ],
             [
              0.7777777777777778,
              "#fb9f3a"
             ],
             [
              0.8888888888888888,
              "#fdca26"
             ],
             [
              1,
              "#f0f921"
             ]
            ],
            "type": "histogram2d"
           }
          ],
          "histogram2dcontour": [
           {
            "colorbar": {
             "outlinewidth": 0,
             "ticks": ""
            },
            "colorscale": [
             [
              0,
              "#0d0887"
             ],
             [
              0.1111111111111111,
              "#46039f"
             ],
             [
              0.2222222222222222,
              "#7201a8"
             ],
             [
              0.3333333333333333,
              "#9c179e"
             ],
             [
              0.4444444444444444,
              "#bd3786"
             ],
             [
              0.5555555555555556,
              "#d8576b"
             ],
             [
              0.6666666666666666,
              "#ed7953"
             ],
             [
              0.7777777777777778,
              "#fb9f3a"
             ],
             [
              0.8888888888888888,
              "#fdca26"
             ],
             [
              1,
              "#f0f921"
             ]
            ],
            "type": "histogram2dcontour"
           }
          ],
          "mesh3d": [
           {
            "colorbar": {
             "outlinewidth": 0,
             "ticks": ""
            },
            "type": "mesh3d"
           }
          ],
          "parcoords": [
           {
            "line": {
             "colorbar": {
              "outlinewidth": 0,
              "ticks": ""
             }
            },
            "type": "parcoords"
           }
          ],
          "pie": [
           {
            "automargin": true,
            "type": "pie"
           }
          ],
          "scatter": [
           {
            "fillpattern": {
             "fillmode": "overlay",
             "size": 10,
             "solidity": 0.2
            },
            "type": "scatter"
           }
          ],
          "scatter3d": [
           {
            "line": {
             "colorbar": {
              "outlinewidth": 0,
              "ticks": ""
             }
            },
            "marker": {
             "colorbar": {
              "outlinewidth": 0,
              "ticks": ""
             }
            },
            "type": "scatter3d"
           }
          ],
          "scattercarpet": [
           {
            "marker": {
             "colorbar": {
              "outlinewidth": 0,
              "ticks": ""
             }
            },
            "type": "scattercarpet"
           }
          ],
          "scattergeo": [
           {
            "marker": {
             "colorbar": {
              "outlinewidth": 0,
              "ticks": ""
             }
            },
            "type": "scattergeo"
           }
          ],
          "scattergl": [
           {
            "marker": {
             "colorbar": {
              "outlinewidth": 0,
              "ticks": ""
             }
            },
            "type": "scattergl"
           }
          ],
          "scattermapbox": [
           {
            "marker": {
             "colorbar": {
              "outlinewidth": 0,
              "ticks": ""
             }
            },
            "type": "scattermapbox"
           }
          ],
          "scatterpolar": [
           {
            "marker": {
             "colorbar": {
              "outlinewidth": 0,
              "ticks": ""
             }
            },
            "type": "scatterpolar"
           }
          ],
          "scatterpolargl": [
           {
            "marker": {
             "colorbar": {
              "outlinewidth": 0,
              "ticks": ""
             }
            },
            "type": "scatterpolargl"
           }
          ],
          "scatterternary": [
           {
            "marker": {
             "colorbar": {
              "outlinewidth": 0,
              "ticks": ""
             }
            },
            "type": "scatterternary"
           }
          ],
          "surface": [
           {
            "colorbar": {
             "outlinewidth": 0,
             "ticks": ""
            },
            "colorscale": [
             [
              0,
              "#0d0887"
             ],
             [
              0.1111111111111111,
              "#46039f"
             ],
             [
              0.2222222222222222,
              "#7201a8"
             ],
             [
              0.3333333333333333,
              "#9c179e"
             ],
             [
              0.4444444444444444,
              "#bd3786"
             ],
             [
              0.5555555555555556,
              "#d8576b"
             ],
             [
              0.6666666666666666,
              "#ed7953"
             ],
             [
              0.7777777777777778,
              "#fb9f3a"
             ],
             [
              0.8888888888888888,
              "#fdca26"
             ],
             [
              1,
              "#f0f921"
             ]
            ],
            "type": "surface"
           }
          ],
          "table": [
           {
            "cells": {
             "fill": {
              "color": "#EBF0F8"
             },
             "line": {
              "color": "white"
             }
            },
            "header": {
             "fill": {
              "color": "#C8D4E3"
             },
             "line": {
              "color": "white"
             }
            },
            "type": "table"
           }
          ]
         },
         "layout": {
          "annotationdefaults": {
           "arrowcolor": "#2a3f5f",
           "arrowhead": 0,
           "arrowwidth": 1
          },
          "autotypenumbers": "strict",
          "coloraxis": {
           "colorbar": {
            "outlinewidth": 0,
            "ticks": ""
           }
          },
          "colorscale": {
           "diverging": [
            [
             0,
             "#8e0152"
            ],
            [
             0.1,
             "#c51b7d"
            ],
            [
             0.2,
             "#de77ae"
            ],
            [
             0.3,
             "#f1b6da"
            ],
            [
             0.4,
             "#fde0ef"
            ],
            [
             0.5,
             "#f7f7f7"
            ],
            [
             0.6,
             "#e6f5d0"
            ],
            [
             0.7,
             "#b8e186"
            ],
            [
             0.8,
             "#7fbc41"
            ],
            [
             0.9,
             "#4d9221"
            ],
            [
             1,
             "#276419"
            ]
           ],
           "sequential": [
            [
             0,
             "#0d0887"
            ],
            [
             0.1111111111111111,
             "#46039f"
            ],
            [
             0.2222222222222222,
             "#7201a8"
            ],
            [
             0.3333333333333333,
             "#9c179e"
            ],
            [
             0.4444444444444444,
             "#bd3786"
            ],
            [
             0.5555555555555556,
             "#d8576b"
            ],
            [
             0.6666666666666666,
             "#ed7953"
            ],
            [
             0.7777777777777778,
             "#fb9f3a"
            ],
            [
             0.8888888888888888,
             "#fdca26"
            ],
            [
             1,
             "#f0f921"
            ]
           ],
           "sequentialminus": [
            [
             0,
             "#0d0887"
            ],
            [
             0.1111111111111111,
             "#46039f"
            ],
            [
             0.2222222222222222,
             "#7201a8"
            ],
            [
             0.3333333333333333,
             "#9c179e"
            ],
            [
             0.4444444444444444,
             "#bd3786"
            ],
            [
             0.5555555555555556,
             "#d8576b"
            ],
            [
             0.6666666666666666,
             "#ed7953"
            ],
            [
             0.7777777777777778,
             "#fb9f3a"
            ],
            [
             0.8888888888888888,
             "#fdca26"
            ],
            [
             1,
             "#f0f921"
            ]
           ]
          },
          "colorway": [
           "#636efa",
           "#EF553B",
           "#00cc96",
           "#ab63fa",
           "#FFA15A",
           "#19d3f3",
           "#FF6692",
           "#B6E880",
           "#FF97FF",
           "#FECB52"
          ],
          "font": {
           "color": "#2a3f5f"
          },
          "geo": {
           "bgcolor": "white",
           "lakecolor": "white",
           "landcolor": "#E5ECF6",
           "showlakes": true,
           "showland": true,
           "subunitcolor": "white"
          },
          "hoverlabel": {
           "align": "left"
          },
          "hovermode": "closest",
          "mapbox": {
           "style": "light"
          },
          "paper_bgcolor": "white",
          "plot_bgcolor": "#E5ECF6",
          "polar": {
           "angularaxis": {
            "gridcolor": "white",
            "linecolor": "white",
            "ticks": ""
           },
           "bgcolor": "#E5ECF6",
           "radialaxis": {
            "gridcolor": "white",
            "linecolor": "white",
            "ticks": ""
           }
          },
          "scene": {
           "xaxis": {
            "backgroundcolor": "#E5ECF6",
            "gridcolor": "white",
            "gridwidth": 2,
            "linecolor": "white",
            "showbackground": true,
            "ticks": "",
            "zerolinecolor": "white"
           },
           "yaxis": {
            "backgroundcolor": "#E5ECF6",
            "gridcolor": "white",
            "gridwidth": 2,
            "linecolor": "white",
            "showbackground": true,
            "ticks": "",
            "zerolinecolor": "white"
           },
           "zaxis": {
            "backgroundcolor": "#E5ECF6",
            "gridcolor": "white",
            "gridwidth": 2,
            "linecolor": "white",
            "showbackground": true,
            "ticks": "",
            "zerolinecolor": "white"
           }
          },
          "shapedefaults": {
           "line": {
            "color": "#2a3f5f"
           }
          },
          "ternary": {
           "aaxis": {
            "gridcolor": "white",
            "linecolor": "white",
            "ticks": ""
           },
           "baxis": {
            "gridcolor": "white",
            "linecolor": "white",
            "ticks": ""
           },
           "bgcolor": "#E5ECF6",
           "caxis": {
            "gridcolor": "white",
            "linecolor": "white",
            "ticks": ""
           }
          },
          "title": {
           "x": 0.05
          },
          "xaxis": {
           "automargin": true,
           "gridcolor": "white",
           "linecolor": "white",
           "ticks": "",
           "title": {
            "standoff": 15
           },
           "zerolinecolor": "white",
           "zerolinewidth": 2
          },
          "yaxis": {
           "automargin": true,
           "gridcolor": "white",
           "linecolor": "white",
           "ticks": "",
           "title": {
            "standoff": 15
           },
           "zerolinecolor": "white",
           "zerolinewidth": 2
          }
         }
        },
        "title": {
         "text": "Box plot of the total scores from the Acculturative Stress test"
        },
        "xaxis": {
         "anchor": "y",
         "domain": [
          0,
          1
         ],
         "title": {
          "text": "Total ToAS Scores"
         }
        },
        "yaxis": {
         "anchor": "x",
         "domain": [
          0,
          1
         ]
        }
       }
      },
      "text/html": [
       "<div>                            <div id=\"de2783ae-24f5-4c73-bc78-2030246a470f\" class=\"plotly-graph-div\" style=\"height:525px; width:100%;\"></div>            <script type=\"text/javascript\">                require([\"plotly\"], function(Plotly) {                    window.PLOTLYENV=window.PLOTLYENV || {};                                    if (document.getElementById(\"de2783ae-24f5-4c73-bc78-2030246a470f\")) {                    Plotly.newPlot(                        \"de2783ae-24f5-4c73-bc78-2030246a470f\",                        [{\"alignmentgroup\":\"True\",\"boxpoints\":\"all\",\"customdata\":[[24.0],[28.0],[25.0],[29.0],[28.0],[24.0],[23.0],[30.0],[25.0],[31.0],[28.0],[31.0],[29.0],[23.0],[31.0],[30.0],[31.0],[29.0],[19.0],[25.0],[18.0],[18.0],[19.0],[20.0],[29.0],[25.0],[30.0],[17.0],[20.0],[19.0],[18.0],[21.0],[22.0],[20.0],[19.0],[21.0],[22.0],[18.0],[21.0],[22.0],[19.0],[24.0],[19.0],[18.0],[20.0],[23.0],[23.0],[20.0],[20.0],[21.0],[23.0],[20.0],[23.0],[20.0],[21.0],[21.0],[19.0],[18.0],[20.0],[18.0],[20.0],[18.0],[21.0],[20.0],[19.0],[18.0],[21.0],[20.0],[18.0],[19.0],[22.0],[19.0],[20.0],[19.0],[24.0],[21.0],[20.0],[23.0],[19.0],[19.0],[19.0],[20.0],[20.0],[21.0],[21.0],[21.0],[18.0],[19.0],[21.0],[18.0],[19.0],[22.0],[19.0],[21.0],[19.0],[23.0],[20.0],[20.0],[21.0],[20.0],[20.0],[23.0],[21.0],[20.0],[23.0],[19.0],[21.0],[21.0],[18.0],[19.0],[17.0],[18.0],[19.0],[22.0],[23.0],[21.0],[22.0],[21.0],[21.0],[20.0],[23.0],[18.0],[21.0],[18.0],[22.0],[17.0],[19.0],[27.0],[18.0],[19.0],[20.0],[19.0],[19.0],[21.0],[21.0],[22.0],[22.0],[21.0],[21.0],[19.0],[21.0],[21.0],[22.0],[18.0],[20.0],[20.0],[24.0],[24.0],[18.0],[21.0],[19.0],[19.0],[20.0],[21.0],[18.0],[21.0],[21.0],[19.0],[21.0],[19.0],[20.0],[19.0],[19.0],[19.0],[25.0],[21.0],[18.0],[19.0],[25.0],[18.0],[19.0],[20.0],[21.0],[19.0],[20.0],[19.0],[22.0],[22.0],[19.0],[19.0],[18.0],[18.0],[20.0],[19.0],[18.0],[21.0],[22.0],[25.0],[19.0],[25.0],[18.0],[25.0],[18.0],[20.0],[20.0],[21.0],[21.0],[20.0],[21.0],[18.0],[20.0]],\"hovertemplate\":\"Type of Student=Inter<br>Total ToAS Scores=%{x}<br>Age=%{customdata[0]}<extra></extra>\",\"legendgroup\":\"Inter\",\"marker\":{\"color\":\"#636efa\"},\"name\":\"Inter\",\"notched\":false,\"offsetgroup\":\"Inter\",\"orientation\":\"h\",\"showlegend\":true,\"x\":[91.0,39.0,51.0,75.0,82.0,83.0,58.0,127.0,109.0,51.0,92.0,95.0,54.0,57.0,112.0,74.0,63.0,47.0,55.0,60.0,66.0,66.0,94.0,123.0,78.0,65.0,91.0,88.0,39.0,72.0,66.0,73.0,73.0,45.0,50.0,63.0,63.0,68.0,50.0,92.0,59.0,78.0,41.0,94.0,36.0,83.0,83.0,109.0,58.0,36.0,104.0,78.0,108.0,54.0,68.0,86.0,102.0,88.0,81.0,72.0,66.0,104.0,86.0,63.0,89.0,64.0,96.0,73.0,53.0,90.0,40.0,55.0,83.0,59.0,64.0,74.0,122.0,56.0,97.0,64.0,57.0,89.0,85.0,45.0,101.0,84.0,112.0,73.0,67.0,94.0,91.0,41.0,105.0,71.0,63.0,101.0,92.0,36.0,87.0,36.0,36.0,88.0,91.0,75.0,92.0,125.0,101.0,100.0,103.0,79.0,70.0,67.0,105.0,86.0,63.0,70.0,58.0,58.0,41.0,56.0,82.0,88.0,80.0,50.0,75.0,54.0,79.0,42.0,99.0,80.0,94.0,54.0,81.0,85.0,97.0,132.0,73.0,85.0,85.0,77.0,120.0,108.0,61.0,79.0,102.0,36.0,65.0,65.0,104.0,53.0,52.0,46.0,81.0,46.0,81.0,36.0,64.0,105.0,50.0,47.0,41.0,64.0,55.0,72.0,90.0,46.0,79.0,83.0,77.0,101.0,60.0,66.0,62.0,68.0,84.0,76.0,87.0,68.0,63.0,84.0,65.0,98.0,87.0,85.0,62.0,44.0,37.0,129.0,82.0,101.0,83.0,45.0,83.0,95.0,68.0,133.0,82.0,145.0,110.0,68.0,57.0],\"x0\":\" \",\"xaxis\":\"x\",\"y0\":\" \",\"yaxis\":\"y\",\"type\":\"box\"},{\"alignmentgroup\":\"True\",\"boxpoints\":\"all\",\"customdata\":[[27.0],[18.0],[21.0],[20.0],[21.0],[20.0],[18.0],[22.0],[22.0],[20.0],[21.0],[21.0],[20.0],[21.0],[21.0],[20.0],[21.0],[21.0],[22.0],[21.0],[21.0],[19.0],[23.0],[18.0],[18.0],[18.0],[18.0],[18.0],[20.0],[20.0],[19.0],[20.0],[21.0],[23.0],[20.0],[21.0],[19.0],[20.0],[20.0],[21.0],[20.0],[19.0],[20.0],[20.0],[19.0],[24.0],[22.0],[21.0],[19.0],[23.0],[23.0],[21.0],[18.0],[21.0],[22.0],[20.0],[19.0],[18.0],[19.0],[20.0],[21.0],[22.0],[21.0],[22.0],[19.0],[19.0],[20.0]],\"hovertemplate\":\"Type of Student=Dom<br>Total ToAS Scores=%{x}<br>Age=%{customdata[0]}<extra></extra>\",\"legendgroup\":\"Dom\",\"marker\":{\"color\":\"#EF553B\"},\"name\":\"Dom\",\"notched\":false,\"offsetgroup\":\"Dom\",\"orientation\":\"h\",\"showlegend\":true,\"x\":[81.0,37.0,72.0,43.0,36.0,56.0,71.0,36.0,96.0,37.0,90.0,75.0,77.0,43.0,52.0,66.0,65.0,96.0,44.0,49.0,36.0,60.0,74.0,60.0,42.0,90.0,90.0,81.0,39.0,112.0,89.0,65.0,49.0,75.0,66.0,82.0,72.0,40.0,58.0,36.0,57.0,43.0,72.0,42.0,84.0,67.0,37.0,69.0,95.0,58.0,109.0,60.0,64.0,40.0,36.0,76.0,67.0,44.0,74.0,94.0,36.0,76.0,74.0,50.0,43.0,44.0,61.0],\"x0\":\" \",\"xaxis\":\"x\",\"y0\":\" \",\"yaxis\":\"y\",\"type\":\"box\"}],                        {\"template\":{\"data\":{\"histogram2dcontour\":[{\"type\":\"histogram2dcontour\",\"colorbar\":{\"outlinewidth\":0,\"ticks\":\"\"},\"colorscale\":[[0.0,\"#0d0887\"],[0.1111111111111111,\"#46039f\"],[0.2222222222222222,\"#7201a8\"],[0.3333333333333333,\"#9c179e\"],[0.4444444444444444,\"#bd3786\"],[0.5555555555555556,\"#d8576b\"],[0.6666666666666666,\"#ed7953\"],[0.7777777777777778,\"#fb9f3a\"],[0.8888888888888888,\"#fdca26\"],[1.0,\"#f0f921\"]]}],\"choropleth\":[{\"type\":\"choropleth\",\"colorbar\":{\"outlinewidth\":0,\"ticks\":\"\"}}],\"histogram2d\":[{\"type\":\"histogram2d\",\"colorbar\":{\"outlinewidth\":0,\"ticks\":\"\"},\"colorscale\":[[0.0,\"#0d0887\"],[0.1111111111111111,\"#46039f\"],[0.2222222222222222,\"#7201a8\"],[0.3333333333333333,\"#9c179e\"],[0.4444444444444444,\"#bd3786\"],[0.5555555555555556,\"#d8576b\"],[0.6666666666666666,\"#ed7953\"],[0.7777777777777778,\"#fb9f3a\"],[0.8888888888888888,\"#fdca26\"],[1.0,\"#f0f921\"]]}],\"heatmap\":[{\"type\":\"heatmap\",\"colorbar\":{\"outlinewidth\":0,\"ticks\":\"\"},\"colorscale\":[[0.0,\"#0d0887\"],[0.1111111111111111,\"#46039f\"],[0.2222222222222222,\"#7201a8\"],[0.3333333333333333,\"#9c179e\"],[0.4444444444444444,\"#bd3786\"],[0.5555555555555556,\"#d8576b\"],[0.6666666666666666,\"#ed7953\"],[0.7777777777777778,\"#fb9f3a\"],[0.8888888888888888,\"#fdca26\"],[1.0,\"#f0f921\"]]}],\"heatmapgl\":[{\"type\":\"heatmapgl\",\"colorbar\":{\"outlinewidth\":0,\"ticks\":\"\"},\"colorscale\":[[0.0,\"#0d0887\"],[0.1111111111111111,\"#46039f\"],[0.2222222222222222,\"#7201a8\"],[0.3333333333333333,\"#9c179e\"],[0.4444444444444444,\"#bd3786\"],[0.5555555555555556,\"#d8576b\"],[0.6666666666666666,\"#ed7953\"],[0.7777777777777778,\"#fb9f3a\"],[0.8888888888888888,\"#fdca26\"],[1.0,\"#f0f921\"]]}],\"contourcarpet\":[{\"type\":\"contourcarpet\",\"colorbar\":{\"outlinewidth\":0,\"ticks\":\"\"}}],\"contour\":[{\"type\":\"contour\",\"colorbar\":{\"outlinewidth\":0,\"ticks\":\"\"},\"colorscale\":[[0.0,\"#0d0887\"],[0.1111111111111111,\"#46039f\"],[0.2222222222222222,\"#7201a8\"],[0.3333333333333333,\"#9c179e\"],[0.4444444444444444,\"#bd3786\"],[0.5555555555555556,\"#d8576b\"],[0.6666666666666666,\"#ed7953\"],[0.7777777777777778,\"#fb9f3a\"],[0.8888888888888888,\"#fdca26\"],[1.0,\"#f0f921\"]]}],\"surface\":[{\"type\":\"surface\",\"colorbar\":{\"outlinewidth\":0,\"ticks\":\"\"},\"colorscale\":[[0.0,\"#0d0887\"],[0.1111111111111111,\"#46039f\"],[0.2222222222222222,\"#7201a8\"],[0.3333333333333333,\"#9c179e\"],[0.4444444444444444,\"#bd3786\"],[0.5555555555555556,\"#d8576b\"],[0.6666666666666666,\"#ed7953\"],[0.7777777777777778,\"#fb9f3a\"],[0.8888888888888888,\"#fdca26\"],[1.0,\"#f0f921\"]]}],\"mesh3d\":[{\"type\":\"mesh3d\",\"colorbar\":{\"outlinewidth\":0,\"ticks\":\"\"}}],\"scatter\":[{\"fillpattern\":{\"fillmode\":\"overlay\",\"size\":10,\"solidity\":0.2},\"type\":\"scatter\"}],\"parcoords\":[{\"type\":\"parcoords\",\"line\":{\"colorbar\":{\"outlinewidth\":0,\"ticks\":\"\"}}}],\"scatterpolargl\":[{\"type\":\"scatterpolargl\",\"marker\":{\"colorbar\":{\"outlinewidth\":0,\"ticks\":\"\"}}}],\"bar\":[{\"error_x\":{\"color\":\"#2a3f5f\"},\"error_y\":{\"color\":\"#2a3f5f\"},\"marker\":{\"line\":{\"color\":\"#E5ECF6\",\"width\":0.5},\"pattern\":{\"fillmode\":\"overlay\",\"size\":10,\"solidity\":0.2}},\"type\":\"bar\"}],\"scattergeo\":[{\"type\":\"scattergeo\",\"marker\":{\"colorbar\":{\"outlinewidth\":0,\"ticks\":\"\"}}}],\"scatterpolar\":[{\"type\":\"scatterpolar\",\"marker\":{\"colorbar\":{\"outlinewidth\":0,\"ticks\":\"\"}}}],\"histogram\":[{\"marker\":{\"pattern\":{\"fillmode\":\"overlay\",\"size\":10,\"solidity\":0.2}},\"type\":\"histogram\"}],\"scattergl\":[{\"type\":\"scattergl\",\"marker\":{\"colorbar\":{\"outlinewidth\":0,\"ticks\":\"\"}}}],\"scatter3d\":[{\"type\":\"scatter3d\",\"line\":{\"colorbar\":{\"outlinewidth\":0,\"ticks\":\"\"}},\"marker\":{\"colorbar\":{\"outlinewidth\":0,\"ticks\":\"\"}}}],\"scattermapbox\":[{\"type\":\"scattermapbox\",\"marker\":{\"colorbar\":{\"outlinewidth\":0,\"ticks\":\"\"}}}],\"scatterternary\":[{\"type\":\"scatterternary\",\"marker\":{\"colorbar\":{\"outlinewidth\":0,\"ticks\":\"\"}}}],\"scattercarpet\":[{\"type\":\"scattercarpet\",\"marker\":{\"colorbar\":{\"outlinewidth\":0,\"ticks\":\"\"}}}],\"carpet\":[{\"aaxis\":{\"endlinecolor\":\"#2a3f5f\",\"gridcolor\":\"white\",\"linecolor\":\"white\",\"minorgridcolor\":\"white\",\"startlinecolor\":\"#2a3f5f\"},\"baxis\":{\"endlinecolor\":\"#2a3f5f\",\"gridcolor\":\"white\",\"linecolor\":\"white\",\"minorgridcolor\":\"white\",\"startlinecolor\":\"#2a3f5f\"},\"type\":\"carpet\"}],\"table\":[{\"cells\":{\"fill\":{\"color\":\"#EBF0F8\"},\"line\":{\"color\":\"white\"}},\"header\":{\"fill\":{\"color\":\"#C8D4E3\"},\"line\":{\"color\":\"white\"}},\"type\":\"table\"}],\"barpolar\":[{\"marker\":{\"line\":{\"color\":\"#E5ECF6\",\"width\":0.5},\"pattern\":{\"fillmode\":\"overlay\",\"size\":10,\"solidity\":0.2}},\"type\":\"barpolar\"}],\"pie\":[{\"automargin\":true,\"type\":\"pie\"}]},\"layout\":{\"autotypenumbers\":\"strict\",\"colorway\":[\"#636efa\",\"#EF553B\",\"#00cc96\",\"#ab63fa\",\"#FFA15A\",\"#19d3f3\",\"#FF6692\",\"#B6E880\",\"#FF97FF\",\"#FECB52\"],\"font\":{\"color\":\"#2a3f5f\"},\"hovermode\":\"closest\",\"hoverlabel\":{\"align\":\"left\"},\"paper_bgcolor\":\"white\",\"plot_bgcolor\":\"#E5ECF6\",\"polar\":{\"bgcolor\":\"#E5ECF6\",\"angularaxis\":{\"gridcolor\":\"white\",\"linecolor\":\"white\",\"ticks\":\"\"},\"radialaxis\":{\"gridcolor\":\"white\",\"linecolor\":\"white\",\"ticks\":\"\"}},\"ternary\":{\"bgcolor\":\"#E5ECF6\",\"aaxis\":{\"gridcolor\":\"white\",\"linecolor\":\"white\",\"ticks\":\"\"},\"baxis\":{\"gridcolor\":\"white\",\"linecolor\":\"white\",\"ticks\":\"\"},\"caxis\":{\"gridcolor\":\"white\",\"linecolor\":\"white\",\"ticks\":\"\"}},\"coloraxis\":{\"colorbar\":{\"outlinewidth\":0,\"ticks\":\"\"}},\"colorscale\":{\"sequential\":[[0.0,\"#0d0887\"],[0.1111111111111111,\"#46039f\"],[0.2222222222222222,\"#7201a8\"],[0.3333333333333333,\"#9c179e\"],[0.4444444444444444,\"#bd3786\"],[0.5555555555555556,\"#d8576b\"],[0.6666666666666666,\"#ed7953\"],[0.7777777777777778,\"#fb9f3a\"],[0.8888888888888888,\"#fdca26\"],[1.0,\"#f0f921\"]],\"sequentialminus\":[[0.0,\"#0d0887\"],[0.1111111111111111,\"#46039f\"],[0.2222222222222222,\"#7201a8\"],[0.3333333333333333,\"#9c179e\"],[0.4444444444444444,\"#bd3786\"],[0.5555555555555556,\"#d8576b\"],[0.6666666666666666,\"#ed7953\"],[0.7777777777777778,\"#fb9f3a\"],[0.8888888888888888,\"#fdca26\"],[1.0,\"#f0f921\"]],\"diverging\":[[0,\"#8e0152\"],[0.1,\"#c51b7d\"],[0.2,\"#de77ae\"],[0.3,\"#f1b6da\"],[0.4,\"#fde0ef\"],[0.5,\"#f7f7f7\"],[0.6,\"#e6f5d0\"],[0.7,\"#b8e186\"],[0.8,\"#7fbc41\"],[0.9,\"#4d9221\"],[1,\"#276419\"]]},\"xaxis\":{\"gridcolor\":\"white\",\"linecolor\":\"white\",\"ticks\":\"\",\"title\":{\"standoff\":15},\"zerolinecolor\":\"white\",\"automargin\":true,\"zerolinewidth\":2},\"yaxis\":{\"gridcolor\":\"white\",\"linecolor\":\"white\",\"ticks\":\"\",\"title\":{\"standoff\":15},\"zerolinecolor\":\"white\",\"automargin\":true,\"zerolinewidth\":2},\"scene\":{\"xaxis\":{\"backgroundcolor\":\"#E5ECF6\",\"gridcolor\":\"white\",\"linecolor\":\"white\",\"showbackground\":true,\"ticks\":\"\",\"zerolinecolor\":\"white\",\"gridwidth\":2},\"yaxis\":{\"backgroundcolor\":\"#E5ECF6\",\"gridcolor\":\"white\",\"linecolor\":\"white\",\"showbackground\":true,\"ticks\":\"\",\"zerolinecolor\":\"white\",\"gridwidth\":2},\"zaxis\":{\"backgroundcolor\":\"#E5ECF6\",\"gridcolor\":\"white\",\"linecolor\":\"white\",\"showbackground\":true,\"ticks\":\"\",\"zerolinecolor\":\"white\",\"gridwidth\":2}},\"shapedefaults\":{\"line\":{\"color\":\"#2a3f5f\"}},\"annotationdefaults\":{\"arrowcolor\":\"#2a3f5f\",\"arrowhead\":0,\"arrowwidth\":1},\"geo\":{\"bgcolor\":\"white\",\"landcolor\":\"#E5ECF6\",\"subunitcolor\":\"white\",\"showland\":true,\"showlakes\":true,\"lakecolor\":\"white\"},\"title\":{\"x\":0.05},\"mapbox\":{\"style\":\"light\"}}},\"xaxis\":{\"anchor\":\"y\",\"domain\":[0.0,1.0],\"title\":{\"text\":\"Total ToAS Scores\"}},\"yaxis\":{\"anchor\":\"x\",\"domain\":[0.0,1.0]},\"legend\":{\"title\":{\"text\":\"Type of Student\"},\"tracegroupgap\":0},\"title\":{\"text\":\"Box plot of the total scores from the Acculturative Stress test\"},\"boxmode\":\"group\"},                        {\"responsive\": true}                    ).then(function(){\n",
       "                            \n",
       "var gd = document.getElementById('de2783ae-24f5-4c73-bc78-2030246a470f');\n",
       "var x = new MutationObserver(function (mutations, observer) {{\n",
       "        var display = window.getComputedStyle(gd).display;\n",
       "        if (!display || display === 'none') {{\n",
       "            console.log([gd, 'removed!']);\n",
       "            Plotly.purge(gd);\n",
       "            observer.disconnect();\n",
       "        }}\n",
       "}});\n",
       "\n",
       "// Listen for the removal of the full notebook cells\n",
       "var notebookContainer = gd.closest('#notebook-container');\n",
       "if (notebookContainer) {{\n",
       "    x.observe(notebookContainer, {childList: true});\n",
       "}}\n",
       "\n",
       "// Listen for the clearing of the current output cell\n",
       "var outputEl = gd.closest('.output');\n",
       "if (outputEl) {{\n",
       "    x.observe(outputEl, {childList: true});\n",
       "}}\n",
       "\n",
       "                        })                };                });            </script>        </div>"
      ]
     },
     "metadata": {},
     "output_type": "display_data"
    }
   ],
   "source": [
    "#Create a box plot to show acculturative stress of the students\n",
    "\n",
    "fig = px.box(\n",
    "\n",
    "#Select the dataframe\n",
    "\n",
    "data_frame = mental,\n",
    "\n",
    "#Select column to visualize\n",
    "\n",
    "x = 'ToAS',\n",
    "\n",
    "#Select additional column to determine groups of data\n",
    "\n",
    "color = 'inter_dom',\n",
    "    \n",
    "#Select the additional column to determine what information is shown when you hover over the plot\n",
    "    \n",
    "hover_data = ['Age'],\n",
    "    \n",
    "#Select the option to view all data points\n",
    "    \n",
    "points = 'all',\n",
    "\n",
    "#Clean up the labels\n",
    "\n",
    "title = 'Box plot of the total scores from the Acculturative Stress test',\n",
    "labels = {'inter_dom':'Type of Student', 'ToAS':'Total ToAS Scores'})\n",
    "\n",
    "#Show the figure\n",
    "\n",
    "fig.show()\n"
   ]
  },
  {
   "cell_type": "code",
   "execution_count": 39,
   "id": "bf1ae929",
   "metadata": {},
   "outputs": [
    {
     "data": {
      "application/vnd.plotly.v1+json": {
       "config": {
        "plotlyServerURL": "https://plot.ly"
       },
       "data": [
        {
         "type": "heatmap",
         "x": [
          "Age",
          "Stay",
          "Japanese",
          "English",
          "ToDep",
          "ToSC",
          "APD",
          "AHome",
          "APH",
          "Afear",
          "ACS",
          "AGuilt",
          "AMiscell",
          "ToAS",
          "Partner",
          "Friends",
          "Parents",
          "Relative",
          "Profess",
          "Doctor",
          "Reli",
          "Alone",
          "Others",
          "Internet"
         ],
         "y": [
          "Age",
          "Stay",
          "Japanese",
          "English",
          "ToDep",
          "ToSC",
          "APD",
          "AHome",
          "APH",
          "Afear",
          "ACS",
          "AGuilt",
          "AMiscell",
          "ToAS",
          "Partner",
          "Friends",
          "Parents",
          "Relative",
          "Profess",
          "Doctor",
          "Reli",
          "Alone",
          "Others",
          "Internet"
         ],
         "z": [
          [
           1,
           0.30223442861041994,
           -0.13346135511164042,
           0.050872599879405705,
           -0.11526276048033443,
           0.11046223791627822,
           0.0574896536966225,
           -0.022056288641419165,
           -0.013014375662681736,
           0.017738742224981268,
           0.11934070625017869,
           -0.038557980354092754,
           0.046097436179253014,
           0.03731837300153905,
           0.11999313142819595,
           -0.054480818953576926,
           -0.021118652289905386,
           -0.025270344560412147,
           0.04681613590826104,
           0.04726100914515056,
           0.13597872353012724,
           -0.13741467714249087,
           -0.0019613050994948186,
           0.0017454272234456636
          ],
          [
           0.30223442861041994,
           1,
           0.3071546800158845,
           -0.015932731090200283,
           0.05158095907975082,
           -0.0375866054343532,
           0.059173687257718585,
           -0.12338554627055097,
           0.021855958817581043,
           0.0160582104984054,
           0.018953913213940764,
           -0.024161298515085857,
           -0.0013831054196054035,
           0.00022140307033668118,
           -0.0099015681776633,
           0.019637492434926723,
           -0.021692246664182593,
           -0.0697915836171958,
           -0.03998721431313516,
           -0.011302033281015868,
           -0.02351448058360812,
           -0.11761601041882046,
           0.0006159518986365689,
           -0.005338981760702024
          ],
          [
           -0.13346135511164042,
           0.3071546800158845,
           1,
           -0.3089778925995498,
           0.03654763129129567,
           0.04275464995521668,
           -0.1735866204056002,
           -0.29011336953292716,
           -0.15148312571598643,
           -0.13610666830015347,
           -0.22895356270079423,
           -0.0921697608149918,
           -0.19989825239167086,
           -0.24489148848944298,
           0.0008429980262486987,
           0.11017139039649985,
           0.15400451748932695,
           0.00024240509176867418,
           0.06327138180644894,
           0.09287260401366577,
           -0.03846289857632018,
           -0.1912651401950974,
           -0.06990933942952544,
           -0.08371340652501433
          ],
          [
           0.050872599879405705,
           -0.015932731090200283,
           -0.3089778925995498,
           1,
           -0.03645150913166027,
           -0.07436771826212324,
           0.15563589036777944,
           0.07546843463198911,
           0.11252975831807727,
           0.08502258432550147,
           0.15367014101042195,
           -0.023040166971250338,
           0.1062291855980115,
           0.1387620044416444,
           0.17548010120944432,
           0.035083791197732965,
           -0.028580379685928456,
           0.026760760687337813,
           0.08392163985333859,
           0.062342910389343,
           0.04621808270329078,
           0.10553795153065841,
           0.10833414805009514,
           0.04641410210254837
          ],
          [
           -0.11526276048033443,
           0.05158095907975082,
           0.03654763129129567,
           -0.03645150913166027,
           1,
           -0.551795283709692,
           0.34025572677544047,
           0.16858665501797263,
           0.3092536691492189,
           0.3486300390590868,
           0.27432671345226944,
           0.30594760685915373,
           0.33334197697735024,
           0.39409453380723974,
           -0.050095627253516496,
           -0.11529651401429147,
           -0.17058048436841194,
           -0.14619371027807468,
           0.06348314835260256,
           -0.031113961785138797,
           -0.036489584641955106,
           0.3096974109777824,
           0.24107178003570032,
           0.16110960354943368
          ],
          [
           0.11046223791627822,
           -0.0375866054343532,
           0.04275464995521668,
           -0.07436771826212324,
           -0.551795283709692,
           1,
           -0.5294965516746343,
           -0.23795255500800946,
           -0.42424603201435623,
           -0.4271055400401072,
           -0.3527790085175274,
           -0.3686556274576898,
           -0.4908851515424259,
           -0.5558600932591827,
           0.047433059457919695,
           0.126788846602698,
           0.17685137413185165,
           0.16517883719995807,
           -0.1056326681445647,
           -0.030819426573632923,
           -0.00016570591945575588,
           -0.4289067891363692,
           -0.2331472700010815,
           -0.2122581694725351
          ],
          [
           0.0574896536966225,
           0.059173687257718585,
           -0.1735866204056002,
           0.15563589036777944,
           0.34025572677544047,
           -0.5294965516746343,
           1,
           0.3713296997467809,
           0.6475122446697448,
           0.5724206362932405,
           0.4478054541175727,
           0.31069864318420953,
           0.578559446112398,
           0.8037853755555872,
           0.04137697699365782,
           -0.045776104593547876,
           -0.12656924717099816,
           -0.06310604763408748,
           0.1415398496105294,
           0.1232596235433279,
           0.1854947578069954,
           0.26603586359896886,
           0.235916466472166,
           0.25151327225419057
          ],
          [
           -0.022056288641419165,
           -0.12338554627055097,
           -0.29011336953292716,
           0.07546843463198911,
           0.16858665501797263,
           -0.23795255500800946,
           0.3713296997467809,
           1,
           0.39722720251597404,
           0.43571396846864147,
           0.46086693513791943,
           0.41286020337905,
           0.5064804245967209,
           0.6651342770500729,
           0.019517239896626973,
           0.08668507631104107,
           0.1676889580659996,
           0.13872954598517842,
           0.1278843499024998,
           -0.008427816454745612,
           0.16289896197700784,
           0.11022933076103679,
           0.19290368534177982,
           0.1979247828004269
          ],
          [
           -0.013014375662681736,
           0.021855958817581043,
           -0.15148312571598643,
           0.11252975831807727,
           0.3092536691492189,
           -0.42424603201435623,
           0.6475122446697448,
           0.39722720251597404,
           1,
           0.6408838882612105,
           0.46610935873065235,
           0.34183299541294115,
           0.5460327278086302,
           0.7810582934656541,
           -0.06589926808195731,
           -0.11596828726072766,
           -0.10892146116779795,
           -0.059540023948938474,
           0.08148904322852193,
           0.06672688476679609,
           0.14349338747672946,
           0.25159421752707395,
           0.22829320009725237,
           0.12689430524122428
          ],
          [
           0.017738742224981268,
           0.0160582104984054,
           -0.13610666830015347,
           0.08502258432550147,
           0.3486300390590868,
           -0.4271055400401072,
           0.5724206362932405,
           0.43571396846864147,
           0.6408838882612105,
           1,
           0.41265000745002817,
           0.4304985066740514,
           0.5704248106145678,
           0.7595361895164652,
           -0.09005694978525522,
           -0.09041954086174268,
           -0.07593760944772228,
           -0.023951928112485834,
           0.12016288728208566,
           0.043979864266858876,
           0.1691535861026482,
           0.17966406713441127,
           0.2561269131564129,
           0.19086899938040283
          ],
          [
           0.11934070625017869,
           0.018953913213940764,
           -0.22895356270079423,
           0.15367014101042195,
           0.27432671345226944,
           -0.3527790085175274,
           0.4478054541175727,
           0.46086693513791943,
           0.46610935873065235,
           0.41265000745002817,
           1,
           0.4025079126524669,
           0.6465048856068519,
           0.7068950142983819,
           0.0641728347982046,
           0.04012644375583,
           0.015049455806384972,
           0.0340199458849327,
           0.13139679325327222,
           0.05507722763454761,
           0.11815245833982374,
           0.2482187717789588,
           0.1804803058517604,
           0.1857046366145684
          ],
          [
           -0.038557980354092754,
           -0.024161298515085857,
           -0.0921697608149918,
           -0.023040166971250338,
           0.30594760685915373,
           -0.3686556274576898,
           0.31069864318420953,
           0.41286020337905,
           0.34183299541294115,
           0.4304985066740514,
           0.4025079126524669,
           1,
           0.49783991339200884,
           0.5736037024714602,
           -0.029316833301396797,
           -0.05303173787249692,
           -0.0732196617605876,
           0.009640849414106015,
           0.08897633199793545,
           0.002236538819068991,
           0.20115417422819887,
           0.27001069782834475,
           0.24143614806649277,
           0.140489471208461
          ],
          [
           0.046097436179253014,
           -0.0013831054196054035,
           -0.19989825239167086,
           0.1062291855980115,
           0.33334197697735024,
           -0.4908851515424259,
           0.578559446112398,
           0.5064804245967209,
           0.5460327278086302,
           0.5704248106145678,
           0.6465048856068519,
           0.49783991339200884,
           1,
           0.8701018256644012,
           0.13070249080270335,
           0.05569954122802553,
           0.028671718115611967,
           0.040339294999262316,
           0.22064352874694412,
           0.11571968841234022,
           0.16207937255175792,
           0.30718113747337483,
           0.2903775641198487,
           0.30478775313156675
          ],
          [
           0.03731837300153905,
           0.00022140307033668118,
           -0.24489148848944298,
           0.1387620044416444,
           0.39409453380723974,
           -0.5558600932591827,
           0.8037853755555872,
           0.6651342770500729,
           0.7810582934656541,
           0.7595361895164652,
           0.7068950142983819,
           0.5736037024714602,
           0.8701018256644012,
           1,
           0.03777942073259224,
           -0.012689086607837198,
           -0.03049180053239368,
           0.010952732065064896,
           0.18756882481302994,
           0.094859655327835,
           0.21276764865574194,
           0.31504183637614114,
           0.31198265400944775,
           0.2866011464775678
          ],
          [
           0.11999313142819595,
           -0.0099015681776633,
           0.0008429980262486987,
           0.17548010120944432,
           -0.050095627253516496,
           0.047433059457919695,
           0.04137697699365782,
           0.019517239896626973,
           -0.06589926808195731,
           -0.09005694978525522,
           0.0641728347982046,
           -0.029316833301396797,
           0.13070249080270335,
           0.03777942073259224,
           1,
           0.40073105330563685,
           0.38825766980804627,
           0.22509874089904341,
           0.3176033239610909,
           0.2955076302693881,
           0.09543318624408503,
           -0.03043700121811064,
           0.015381927912487794,
           0.1373425986164617
          ],
          [
           -0.054480818953576926,
           0.019637492434926723,
           0.11017139039649985,
           0.035083791197732965,
           -0.11529651401429147,
           0.126788846602698,
           -0.045776104593547876,
           0.08668507631104107,
           -0.11596828726072766,
           -0.09041954086174268,
           0.04012644375583,
           -0.05303173787249692,
           0.05569954122802553,
           -0.012689086607837198,
           0.40073105330563685,
           1,
           0.4815654626419163,
           0.3568150761602755,
           0.2760451816395799,
           0.2862014732384553,
           0.15878491080287618,
           -0.08385395137327106,
           0.045772136053049785,
           0.25598799007182726
          ],
          [
           -0.021118652289905386,
           -0.021692246664182593,
           0.15400451748932695,
           -0.028580379685928456,
           -0.17058048436841194,
           0.17685137413185165,
           -0.12656924717099816,
           0.1676889580659996,
           -0.10892146116779795,
           -0.07593760944772228,
           0.015049455806384972,
           -0.0732196617605876,
           0.028671718115611967,
           -0.03049180053239368,
           0.38825766980804627,
           0.4815654626419163,
           1,
           0.613094197915781,
           0.2768800933281308,
           0.3096839152198451,
           0.1840140864047523,
           -0.19492989746077202,
           0.03101062920035796,
           0.15508526941166353
          ],
          [
           -0.025270344560412147,
           -0.0697915836171958,
           0.00024240509176867418,
           0.026760760687337813,
           -0.14619371027807468,
           0.16517883719995807,
           -0.06310604763408748,
           0.13872954598517842,
           -0.059540023948938474,
           -0.023951928112485834,
           0.0340199458849327,
           0.009640849414106015,
           0.040339294999262316,
           0.010952732065064896,
           0.22509874089904341,
           0.3568150761602755,
           0.613094197915781,
           1,
           0.32803127204567756,
           0.3172011023347105,
           0.32111273987104116,
           -0.12422280350202371,
           0.1158679272712482,
           0.14587161002484716
          ],
          [
           0.04681613590826104,
           -0.03998721431313516,
           0.06327138180644894,
           0.08392163985333859,
           0.06348314835260256,
           -0.1056326681445647,
           0.1415398496105294,
           0.1278843499024998,
           0.08148904322852193,
           0.12016288728208566,
           0.13139679325327222,
           0.08897633199793545,
           0.22064352874694412,
           0.18756882481302994,
           0.3176033239610909,
           0.2760451816395799,
           0.2768800933281308,
           0.32803127204567756,
           1,
           0.69664876575141,
           0.3244339550632918,
           -0.03411796970622428,
           0.22177798230730067,
           0.2882041502522056
          ],
          [
           0.04726100914515056,
           -0.011302033281015868,
           0.09287260401366577,
           0.062342910389343,
           -0.031113961785138797,
           -0.030819426573632923,
           0.1232596235433279,
           -0.008427816454745612,
           0.06672688476679609,
           0.043979864266858876,
           0.05507722763454761,
           0.002236538819068991,
           0.11571968841234022,
           0.094859655327835,
           0.2955076302693881,
           0.2862014732384553,
           0.3096839152198451,
           0.3172011023347105,
           0.69664876575141,
           1,
           0.3381814513168685,
           -0.023935175888307916,
           0.26920889701714235,
           0.29638464598042363
          ],
          [
           0.13597872353012724,
           -0.02351448058360812,
           -0.03846289857632018,
           0.04621808270329078,
           -0.036489584641955106,
           -0.00016570591945575588,
           0.1854947578069954,
           0.16289896197700784,
           0.14349338747672946,
           0.1691535861026482,
           0.11815245833982374,
           0.20115417422819887,
           0.16207937255175792,
           0.21276764865574194,
           0.09543318624408503,
           0.15878491080287618,
           0.1840140864047523,
           0.32111273987104116,
           0.3244339550632918,
           0.3381814513168685,
           1,
           0.11367175640417765,
           0.29572754067625345,
           0.27324047231921045
          ],
          [
           -0.13741467714249087,
           -0.11761601041882046,
           -0.1912651401950974,
           0.10553795153065841,
           0.3096974109777824,
           -0.4289067891363692,
           0.26603586359896886,
           0.11022933076103679,
           0.25159421752707395,
           0.17966406713441127,
           0.2482187717789588,
           0.27001069782834475,
           0.30718113747337483,
           0.31504183637614114,
           -0.03043700121811064,
           -0.08385395137327106,
           -0.19492989746077202,
           -0.12422280350202371,
           -0.03411796970622428,
           -0.023935175888307916,
           0.11367175640417765,
           1,
           0.3545361535609185,
           0.23410691523020893
          ],
          [
           -0.0019613050994948186,
           0.0006159518986365689,
           -0.06990933942952544,
           0.10833414805009514,
           0.24107178003570032,
           -0.2331472700010815,
           0.235916466472166,
           0.19290368534177982,
           0.22829320009725237,
           0.2561269131564129,
           0.1804803058517604,
           0.24143614806649277,
           0.2903775641198487,
           0.31198265400944775,
           0.015381927912487794,
           0.045772136053049785,
           0.03101062920035796,
           0.1158679272712482,
           0.22177798230730067,
           0.26920889701714235,
           0.29572754067625345,
           0.3545361535609185,
           1,
           0.28995203633676475
          ],
          [
           0.0017454272234456636,
           -0.005338981760702024,
           -0.08371340652501433,
           0.04641410210254837,
           0.16110960354943368,
           -0.2122581694725351,
           0.25151327225419057,
           0.1979247828004269,
           0.12689430524122428,
           0.19086899938040283,
           0.1857046366145684,
           0.140489471208461,
           0.30478775313156675,
           0.2866011464775678,
           0.1373425986164617,
           0.25598799007182726,
           0.15508526941166353,
           0.14587161002484716,
           0.2882041502522056,
           0.29638464598042363,
           0.27324047231921045,
           0.23410691523020893,
           0.28995203633676475,
           1
          ]
         ],
         "zmax": 1,
         "zmin": -1
        }
       ],
       "layout": {
        "height": 900,
        "template": {
         "data": {
          "bar": [
           {
            "error_x": {
             "color": "#2a3f5f"
            },
            "error_y": {
             "color": "#2a3f5f"
            },
            "marker": {
             "line": {
              "color": "#E5ECF6",
              "width": 0.5
             },
             "pattern": {
              "fillmode": "overlay",
              "size": 10,
              "solidity": 0.2
             }
            },
            "type": "bar"
           }
          ],
          "barpolar": [
           {
            "marker": {
             "line": {
              "color": "#E5ECF6",
              "width": 0.5
             },
             "pattern": {
              "fillmode": "overlay",
              "size": 10,
              "solidity": 0.2
             }
            },
            "type": "barpolar"
           }
          ],
          "carpet": [
           {
            "aaxis": {
             "endlinecolor": "#2a3f5f",
             "gridcolor": "white",
             "linecolor": "white",
             "minorgridcolor": "white",
             "startlinecolor": "#2a3f5f"
            },
            "baxis": {
             "endlinecolor": "#2a3f5f",
             "gridcolor": "white",
             "linecolor": "white",
             "minorgridcolor": "white",
             "startlinecolor": "#2a3f5f"
            },
            "type": "carpet"
           }
          ],
          "choropleth": [
           {
            "colorbar": {
             "outlinewidth": 0,
             "ticks": ""
            },
            "type": "choropleth"
           }
          ],
          "contour": [
           {
            "colorbar": {
             "outlinewidth": 0,
             "ticks": ""
            },
            "colorscale": [
             [
              0,
              "#0d0887"
             ],
             [
              0.1111111111111111,
              "#46039f"
             ],
             [
              0.2222222222222222,
              "#7201a8"
             ],
             [
              0.3333333333333333,
              "#9c179e"
             ],
             [
              0.4444444444444444,
              "#bd3786"
             ],
             [
              0.5555555555555556,
              "#d8576b"
             ],
             [
              0.6666666666666666,
              "#ed7953"
             ],
             [
              0.7777777777777778,
              "#fb9f3a"
             ],
             [
              0.8888888888888888,
              "#fdca26"
             ],
             [
              1,
              "#f0f921"
             ]
            ],
            "type": "contour"
           }
          ],
          "contourcarpet": [
           {
            "colorbar": {
             "outlinewidth": 0,
             "ticks": ""
            },
            "type": "contourcarpet"
           }
          ],
          "heatmap": [
           {
            "colorbar": {
             "outlinewidth": 0,
             "ticks": ""
            },
            "colorscale": [
             [
              0,
              "#0d0887"
             ],
             [
              0.1111111111111111,
              "#46039f"
             ],
             [
              0.2222222222222222,
              "#7201a8"
             ],
             [
              0.3333333333333333,
              "#9c179e"
             ],
             [
              0.4444444444444444,
              "#bd3786"
             ],
             [
              0.5555555555555556,
              "#d8576b"
             ],
             [
              0.6666666666666666,
              "#ed7953"
             ],
             [
              0.7777777777777778,
              "#fb9f3a"
             ],
             [
              0.8888888888888888,
              "#fdca26"
             ],
             [
              1,
              "#f0f921"
             ]
            ],
            "type": "heatmap"
           }
          ],
          "heatmapgl": [
           {
            "colorbar": {
             "outlinewidth": 0,
             "ticks": ""
            },
            "colorscale": [
             [
              0,
              "#0d0887"
             ],
             [
              0.1111111111111111,
              "#46039f"
             ],
             [
              0.2222222222222222,
              "#7201a8"
             ],
             [
              0.3333333333333333,
              "#9c179e"
             ],
             [
              0.4444444444444444,
              "#bd3786"
             ],
             [
              0.5555555555555556,
              "#d8576b"
             ],
             [
              0.6666666666666666,
              "#ed7953"
             ],
             [
              0.7777777777777778,
              "#fb9f3a"
             ],
             [
              0.8888888888888888,
              "#fdca26"
             ],
             [
              1,
              "#f0f921"
             ]
            ],
            "type": "heatmapgl"
           }
          ],
          "histogram": [
           {
            "marker": {
             "pattern": {
              "fillmode": "overlay",
              "size": 10,
              "solidity": 0.2
             }
            },
            "type": "histogram"
           }
          ],
          "histogram2d": [
           {
            "colorbar": {
             "outlinewidth": 0,
             "ticks": ""
            },
            "colorscale": [
             [
              0,
              "#0d0887"
             ],
             [
              0.1111111111111111,
              "#46039f"
             ],
             [
              0.2222222222222222,
              "#7201a8"
             ],
             [
              0.3333333333333333,
              "#9c179e"
             ],
             [
              0.4444444444444444,
              "#bd3786"
             ],
             [
              0.5555555555555556,
              "#d8576b"
             ],
             [
              0.6666666666666666,
              "#ed7953"
             ],
             [
              0.7777777777777778,
              "#fb9f3a"
             ],
             [
              0.8888888888888888,
              "#fdca26"
             ],
             [
              1,
              "#f0f921"
             ]
            ],
            "type": "histogram2d"
           }
          ],
          "histogram2dcontour": [
           {
            "colorbar": {
             "outlinewidth": 0,
             "ticks": ""
            },
            "colorscale": [
             [
              0,
              "#0d0887"
             ],
             [
              0.1111111111111111,
              "#46039f"
             ],
             [
              0.2222222222222222,
              "#7201a8"
             ],
             [
              0.3333333333333333,
              "#9c179e"
             ],
             [
              0.4444444444444444,
              "#bd3786"
             ],
             [
              0.5555555555555556,
              "#d8576b"
             ],
             [
              0.6666666666666666,
              "#ed7953"
             ],
             [
              0.7777777777777778,
              "#fb9f3a"
             ],
             [
              0.8888888888888888,
              "#fdca26"
             ],
             [
              1,
              "#f0f921"
             ]
            ],
            "type": "histogram2dcontour"
           }
          ],
          "mesh3d": [
           {
            "colorbar": {
             "outlinewidth": 0,
             "ticks": ""
            },
            "type": "mesh3d"
           }
          ],
          "parcoords": [
           {
            "line": {
             "colorbar": {
              "outlinewidth": 0,
              "ticks": ""
             }
            },
            "type": "parcoords"
           }
          ],
          "pie": [
           {
            "automargin": true,
            "type": "pie"
           }
          ],
          "scatter": [
           {
            "fillpattern": {
             "fillmode": "overlay",
             "size": 10,
             "solidity": 0.2
            },
            "type": "scatter"
           }
          ],
          "scatter3d": [
           {
            "line": {
             "colorbar": {
              "outlinewidth": 0,
              "ticks": ""
             }
            },
            "marker": {
             "colorbar": {
              "outlinewidth": 0,
              "ticks": ""
             }
            },
            "type": "scatter3d"
           }
          ],
          "scattercarpet": [
           {
            "marker": {
             "colorbar": {
              "outlinewidth": 0,
              "ticks": ""
             }
            },
            "type": "scattercarpet"
           }
          ],
          "scattergeo": [
           {
            "marker": {
             "colorbar": {
              "outlinewidth": 0,
              "ticks": ""
             }
            },
            "type": "scattergeo"
           }
          ],
          "scattergl": [
           {
            "marker": {
             "colorbar": {
              "outlinewidth": 0,
              "ticks": ""
             }
            },
            "type": "scattergl"
           }
          ],
          "scattermapbox": [
           {
            "marker": {
             "colorbar": {
              "outlinewidth": 0,
              "ticks": ""
             }
            },
            "type": "scattermapbox"
           }
          ],
          "scatterpolar": [
           {
            "marker": {
             "colorbar": {
              "outlinewidth": 0,
              "ticks": ""
             }
            },
            "type": "scatterpolar"
           }
          ],
          "scatterpolargl": [
           {
            "marker": {
             "colorbar": {
              "outlinewidth": 0,
              "ticks": ""
             }
            },
            "type": "scatterpolargl"
           }
          ],
          "scatterternary": [
           {
            "marker": {
             "colorbar": {
              "outlinewidth": 0,
              "ticks": ""
             }
            },
            "type": "scatterternary"
           }
          ],
          "surface": [
           {
            "colorbar": {
             "outlinewidth": 0,
             "ticks": ""
            },
            "colorscale": [
             [
              0,
              "#0d0887"
             ],
             [
              0.1111111111111111,
              "#46039f"
             ],
             [
              0.2222222222222222,
              "#7201a8"
             ],
             [
              0.3333333333333333,
              "#9c179e"
             ],
             [
              0.4444444444444444,
              "#bd3786"
             ],
             [
              0.5555555555555556,
              "#d8576b"
             ],
             [
              0.6666666666666666,
              "#ed7953"
             ],
             [
              0.7777777777777778,
              "#fb9f3a"
             ],
             [
              0.8888888888888888,
              "#fdca26"
             ],
             [
              1,
              "#f0f921"
             ]
            ],
            "type": "surface"
           }
          ],
          "table": [
           {
            "cells": {
             "fill": {
              "color": "#EBF0F8"
             },
             "line": {
              "color": "white"
             }
            },
            "header": {
             "fill": {
              "color": "#C8D4E3"
             },
             "line": {
              "color": "white"
             }
            },
            "type": "table"
           }
          ]
         },
         "layout": {
          "annotationdefaults": {
           "arrowcolor": "#2a3f5f",
           "arrowhead": 0,
           "arrowwidth": 1
          },
          "autotypenumbers": "strict",
          "coloraxis": {
           "colorbar": {
            "outlinewidth": 0,
            "ticks": ""
           }
          },
          "colorscale": {
           "diverging": [
            [
             0,
             "#8e0152"
            ],
            [
             0.1,
             "#c51b7d"
            ],
            [
             0.2,
             "#de77ae"
            ],
            [
             0.3,
             "#f1b6da"
            ],
            [
             0.4,
             "#fde0ef"
            ],
            [
             0.5,
             "#f7f7f7"
            ],
            [
             0.6,
             "#e6f5d0"
            ],
            [
             0.7,
             "#b8e186"
            ],
            [
             0.8,
             "#7fbc41"
            ],
            [
             0.9,
             "#4d9221"
            ],
            [
             1,
             "#276419"
            ]
           ],
           "sequential": [
            [
             0,
             "#0d0887"
            ],
            [
             0.1111111111111111,
             "#46039f"
            ],
            [
             0.2222222222222222,
             "#7201a8"
            ],
            [
             0.3333333333333333,
             "#9c179e"
            ],
            [
             0.4444444444444444,
             "#bd3786"
            ],
            [
             0.5555555555555556,
             "#d8576b"
            ],
            [
             0.6666666666666666,
             "#ed7953"
            ],
            [
             0.7777777777777778,
             "#fb9f3a"
            ],
            [
             0.8888888888888888,
             "#fdca26"
            ],
            [
             1,
             "#f0f921"
            ]
           ],
           "sequentialminus": [
            [
             0,
             "#0d0887"
            ],
            [
             0.1111111111111111,
             "#46039f"
            ],
            [
             0.2222222222222222,
             "#7201a8"
            ],
            [
             0.3333333333333333,
             "#9c179e"
            ],
            [
             0.4444444444444444,
             "#bd3786"
            ],
            [
             0.5555555555555556,
             "#d8576b"
            ],
            [
             0.6666666666666666,
             "#ed7953"
            ],
            [
             0.7777777777777778,
             "#fb9f3a"
            ],
            [
             0.8888888888888888,
             "#fdca26"
            ],
            [
             1,
             "#f0f921"
            ]
           ]
          },
          "colorway": [
           "#636efa",
           "#EF553B",
           "#00cc96",
           "#ab63fa",
           "#FFA15A",
           "#19d3f3",
           "#FF6692",
           "#B6E880",
           "#FF97FF",
           "#FECB52"
          ],
          "font": {
           "color": "#2a3f5f"
          },
          "geo": {
           "bgcolor": "white",
           "lakecolor": "white",
           "landcolor": "#E5ECF6",
           "showlakes": true,
           "showland": true,
           "subunitcolor": "white"
          },
          "hoverlabel": {
           "align": "left"
          },
          "hovermode": "closest",
          "mapbox": {
           "style": "light"
          },
          "paper_bgcolor": "white",
          "plot_bgcolor": "#E5ECF6",
          "polar": {
           "angularaxis": {
            "gridcolor": "white",
            "linecolor": "white",
            "ticks": ""
           },
           "bgcolor": "#E5ECF6",
           "radialaxis": {
            "gridcolor": "white",
            "linecolor": "white",
            "ticks": ""
           }
          },
          "scene": {
           "xaxis": {
            "backgroundcolor": "#E5ECF6",
            "gridcolor": "white",
            "gridwidth": 2,
            "linecolor": "white",
            "showbackground": true,
            "ticks": "",
            "zerolinecolor": "white"
           },
           "yaxis": {
            "backgroundcolor": "#E5ECF6",
            "gridcolor": "white",
            "gridwidth": 2,
            "linecolor": "white",
            "showbackground": true,
            "ticks": "",
            "zerolinecolor": "white"
           },
           "zaxis": {
            "backgroundcolor": "#E5ECF6",
            "gridcolor": "white",
            "gridwidth": 2,
            "linecolor": "white",
            "showbackground": true,
            "ticks": "",
            "zerolinecolor": "white"
           }
          },
          "shapedefaults": {
           "line": {
            "color": "#2a3f5f"
           }
          },
          "ternary": {
           "aaxis": {
            "gridcolor": "white",
            "linecolor": "white",
            "ticks": ""
           },
           "baxis": {
            "gridcolor": "white",
            "linecolor": "white",
            "ticks": ""
           },
           "bgcolor": "#E5ECF6",
           "caxis": {
            "gridcolor": "white",
            "linecolor": "white",
            "ticks": ""
           }
          },
          "title": {
           "x": 0.05
          },
          "xaxis": {
           "automargin": true,
           "gridcolor": "white",
           "linecolor": "white",
           "ticks": "",
           "title": {
            "standoff": 15
           },
           "zerolinecolor": "white",
           "zerolinewidth": 2
          },
          "yaxis": {
           "automargin": true,
           "gridcolor": "white",
           "linecolor": "white",
           "ticks": "",
           "title": {
            "standoff": 15
           },
           "zerolinecolor": "white",
           "zerolinewidth": 2
          }
         }
        },
        "width": 900
       }
      },
      "text/html": [
       "<div>                            <div id=\"fa56dfcc-a2d2-41c0-8830-bb10ea16a098\" class=\"plotly-graph-div\" style=\"height:900px; width:900px;\"></div>            <script type=\"text/javascript\">                require([\"plotly\"], function(Plotly) {                    window.PLOTLYENV=window.PLOTLYENV || {};                                    if (document.getElementById(\"fa56dfcc-a2d2-41c0-8830-bb10ea16a098\")) {                    Plotly.newPlot(                        \"fa56dfcc-a2d2-41c0-8830-bb10ea16a098\",                        [{\"x\":[\"Age\",\"Stay\",\"Japanese\",\"English\",\"ToDep\",\"ToSC\",\"APD\",\"AHome\",\"APH\",\"Afear\",\"ACS\",\"AGuilt\",\"AMiscell\",\"ToAS\",\"Partner\",\"Friends\",\"Parents\",\"Relative\",\"Profess\",\"Doctor\",\"Reli\",\"Alone\",\"Others\",\"Internet\"],\"y\":[\"Age\",\"Stay\",\"Japanese\",\"English\",\"ToDep\",\"ToSC\",\"APD\",\"AHome\",\"APH\",\"Afear\",\"ACS\",\"AGuilt\",\"AMiscell\",\"ToAS\",\"Partner\",\"Friends\",\"Parents\",\"Relative\",\"Profess\",\"Doctor\",\"Reli\",\"Alone\",\"Others\",\"Internet\"],\"z\":[[1.0,0.30223442861041994,-0.13346135511164042,0.050872599879405705,-0.11526276048033443,0.11046223791627822,0.0574896536966225,-0.022056288641419165,-0.013014375662681736,0.017738742224981268,0.11934070625017869,-0.038557980354092754,0.046097436179253014,0.03731837300153905,0.11999313142819595,-0.054480818953576926,-0.021118652289905386,-0.025270344560412147,0.04681613590826104,0.04726100914515056,0.13597872353012724,-0.13741467714249087,-0.0019613050994948186,0.0017454272234456636],[0.30223442861041994,1.0,0.3071546800158845,-0.015932731090200283,0.05158095907975082,-0.0375866054343532,0.059173687257718585,-0.12338554627055097,0.021855958817581043,0.0160582104984054,0.018953913213940764,-0.024161298515085857,-0.0013831054196054035,0.00022140307033668118,-0.0099015681776633,0.019637492434926723,-0.021692246664182593,-0.0697915836171958,-0.03998721431313516,-0.011302033281015868,-0.02351448058360812,-0.11761601041882046,0.0006159518986365689,-0.005338981760702024],[-0.13346135511164042,0.3071546800158845,1.0,-0.3089778925995498,0.03654763129129567,0.04275464995521668,-0.1735866204056002,-0.29011336953292716,-0.15148312571598643,-0.13610666830015347,-0.22895356270079423,-0.0921697608149918,-0.19989825239167086,-0.24489148848944298,0.0008429980262486987,0.11017139039649985,0.15400451748932695,0.00024240509176867418,0.06327138180644894,0.09287260401366577,-0.03846289857632018,-0.1912651401950974,-0.06990933942952544,-0.08371340652501433],[0.050872599879405705,-0.015932731090200283,-0.3089778925995498,1.0,-0.03645150913166027,-0.07436771826212324,0.15563589036777944,0.07546843463198911,0.11252975831807727,0.08502258432550147,0.15367014101042195,-0.023040166971250338,0.1062291855980115,0.1387620044416444,0.17548010120944432,0.035083791197732965,-0.028580379685928456,0.026760760687337813,0.08392163985333859,0.062342910389343,0.04621808270329078,0.10553795153065841,0.10833414805009514,0.04641410210254837],[-0.11526276048033443,0.05158095907975082,0.03654763129129567,-0.03645150913166027,1.0,-0.551795283709692,0.34025572677544047,0.16858665501797263,0.3092536691492189,0.3486300390590868,0.27432671345226944,0.30594760685915373,0.33334197697735024,0.39409453380723974,-0.050095627253516496,-0.11529651401429147,-0.17058048436841194,-0.14619371027807468,0.06348314835260256,-0.031113961785138797,-0.036489584641955106,0.3096974109777824,0.24107178003570032,0.16110960354943368],[0.11046223791627822,-0.0375866054343532,0.04275464995521668,-0.07436771826212324,-0.551795283709692,1.0,-0.5294965516746343,-0.23795255500800946,-0.42424603201435623,-0.4271055400401072,-0.3527790085175274,-0.3686556274576898,-0.4908851515424259,-0.5558600932591827,0.047433059457919695,0.126788846602698,0.17685137413185165,0.16517883719995807,-0.1056326681445647,-0.030819426573632923,-0.00016570591945575588,-0.4289067891363692,-0.2331472700010815,-0.2122581694725351],[0.0574896536966225,0.059173687257718585,-0.1735866204056002,0.15563589036777944,0.34025572677544047,-0.5294965516746343,1.0,0.3713296997467809,0.6475122446697448,0.5724206362932405,0.4478054541175727,0.31069864318420953,0.578559446112398,0.8037853755555872,0.04137697699365782,-0.045776104593547876,-0.12656924717099816,-0.06310604763408748,0.1415398496105294,0.1232596235433279,0.1854947578069954,0.26603586359896886,0.235916466472166,0.25151327225419057],[-0.022056288641419165,-0.12338554627055097,-0.29011336953292716,0.07546843463198911,0.16858665501797263,-0.23795255500800946,0.3713296997467809,1.0,0.39722720251597404,0.43571396846864147,0.46086693513791943,0.41286020337905,0.5064804245967209,0.6651342770500729,0.019517239896626973,0.08668507631104107,0.1676889580659996,0.13872954598517842,0.1278843499024998,-0.008427816454745612,0.16289896197700784,0.11022933076103679,0.19290368534177982,0.1979247828004269],[-0.013014375662681736,0.021855958817581043,-0.15148312571598643,0.11252975831807727,0.3092536691492189,-0.42424603201435623,0.6475122446697448,0.39722720251597404,1.0,0.6408838882612105,0.46610935873065235,0.34183299541294115,0.5460327278086302,0.7810582934656541,-0.06589926808195731,-0.11596828726072766,-0.10892146116779795,-0.059540023948938474,0.08148904322852193,0.06672688476679609,0.14349338747672946,0.25159421752707395,0.22829320009725237,0.12689430524122428],[0.017738742224981268,0.0160582104984054,-0.13610666830015347,0.08502258432550147,0.3486300390590868,-0.4271055400401072,0.5724206362932405,0.43571396846864147,0.6408838882612105,1.0,0.41265000745002817,0.4304985066740514,0.5704248106145678,0.7595361895164652,-0.09005694978525522,-0.09041954086174268,-0.07593760944772228,-0.023951928112485834,0.12016288728208566,0.043979864266858876,0.1691535861026482,0.17966406713441127,0.2561269131564129,0.19086899938040283],[0.11934070625017869,0.018953913213940764,-0.22895356270079423,0.15367014101042195,0.27432671345226944,-0.3527790085175274,0.4478054541175727,0.46086693513791943,0.46610935873065235,0.41265000745002817,1.0,0.4025079126524669,0.6465048856068519,0.7068950142983819,0.0641728347982046,0.04012644375583,0.015049455806384972,0.0340199458849327,0.13139679325327222,0.05507722763454761,0.11815245833982374,0.2482187717789588,0.1804803058517604,0.1857046366145684],[-0.038557980354092754,-0.024161298515085857,-0.0921697608149918,-0.023040166971250338,0.30594760685915373,-0.3686556274576898,0.31069864318420953,0.41286020337905,0.34183299541294115,0.4304985066740514,0.4025079126524669,1.0,0.49783991339200884,0.5736037024714602,-0.029316833301396797,-0.05303173787249692,-0.0732196617605876,0.009640849414106015,0.08897633199793545,0.002236538819068991,0.20115417422819887,0.27001069782834475,0.24143614806649277,0.140489471208461],[0.046097436179253014,-0.0013831054196054035,-0.19989825239167086,0.1062291855980115,0.33334197697735024,-0.4908851515424259,0.578559446112398,0.5064804245967209,0.5460327278086302,0.5704248106145678,0.6465048856068519,0.49783991339200884,1.0,0.8701018256644012,0.13070249080270335,0.05569954122802553,0.028671718115611967,0.040339294999262316,0.22064352874694412,0.11571968841234022,0.16207937255175792,0.30718113747337483,0.2903775641198487,0.30478775313156675],[0.03731837300153905,0.00022140307033668118,-0.24489148848944298,0.1387620044416444,0.39409453380723974,-0.5558600932591827,0.8037853755555872,0.6651342770500729,0.7810582934656541,0.7595361895164652,0.7068950142983819,0.5736037024714602,0.8701018256644012,1.0,0.03777942073259224,-0.012689086607837198,-0.03049180053239368,0.010952732065064896,0.18756882481302994,0.094859655327835,0.21276764865574194,0.31504183637614114,0.31198265400944775,0.2866011464775678],[0.11999313142819595,-0.0099015681776633,0.0008429980262486987,0.17548010120944432,-0.050095627253516496,0.047433059457919695,0.04137697699365782,0.019517239896626973,-0.06589926808195731,-0.09005694978525522,0.0641728347982046,-0.029316833301396797,0.13070249080270335,0.03777942073259224,1.0,0.40073105330563685,0.38825766980804627,0.22509874089904341,0.3176033239610909,0.2955076302693881,0.09543318624408503,-0.03043700121811064,0.015381927912487794,0.1373425986164617],[-0.054480818953576926,0.019637492434926723,0.11017139039649985,0.035083791197732965,-0.11529651401429147,0.126788846602698,-0.045776104593547876,0.08668507631104107,-0.11596828726072766,-0.09041954086174268,0.04012644375583,-0.05303173787249692,0.05569954122802553,-0.012689086607837198,0.40073105330563685,1.0,0.4815654626419163,0.3568150761602755,0.2760451816395799,0.2862014732384553,0.15878491080287618,-0.08385395137327106,0.045772136053049785,0.25598799007182726],[-0.021118652289905386,-0.021692246664182593,0.15400451748932695,-0.028580379685928456,-0.17058048436841194,0.17685137413185165,-0.12656924717099816,0.1676889580659996,-0.10892146116779795,-0.07593760944772228,0.015049455806384972,-0.0732196617605876,0.028671718115611967,-0.03049180053239368,0.38825766980804627,0.4815654626419163,1.0,0.613094197915781,0.2768800933281308,0.3096839152198451,0.1840140864047523,-0.19492989746077202,0.03101062920035796,0.15508526941166353],[-0.025270344560412147,-0.0697915836171958,0.00024240509176867418,0.026760760687337813,-0.14619371027807468,0.16517883719995807,-0.06310604763408748,0.13872954598517842,-0.059540023948938474,-0.023951928112485834,0.0340199458849327,0.009640849414106015,0.040339294999262316,0.010952732065064896,0.22509874089904341,0.3568150761602755,0.613094197915781,1.0,0.32803127204567756,0.3172011023347105,0.32111273987104116,-0.12422280350202371,0.1158679272712482,0.14587161002484716],[0.04681613590826104,-0.03998721431313516,0.06327138180644894,0.08392163985333859,0.06348314835260256,-0.1056326681445647,0.1415398496105294,0.1278843499024998,0.08148904322852193,0.12016288728208566,0.13139679325327222,0.08897633199793545,0.22064352874694412,0.18756882481302994,0.3176033239610909,0.2760451816395799,0.2768800933281308,0.32803127204567756,1.0,0.69664876575141,0.3244339550632918,-0.03411796970622428,0.22177798230730067,0.2882041502522056],[0.04726100914515056,-0.011302033281015868,0.09287260401366577,0.062342910389343,-0.031113961785138797,-0.030819426573632923,0.1232596235433279,-0.008427816454745612,0.06672688476679609,0.043979864266858876,0.05507722763454761,0.002236538819068991,0.11571968841234022,0.094859655327835,0.2955076302693881,0.2862014732384553,0.3096839152198451,0.3172011023347105,0.69664876575141,1.0,0.3381814513168685,-0.023935175888307916,0.26920889701714235,0.29638464598042363],[0.13597872353012724,-0.02351448058360812,-0.03846289857632018,0.04621808270329078,-0.036489584641955106,-0.00016570591945575588,0.1854947578069954,0.16289896197700784,0.14349338747672946,0.1691535861026482,0.11815245833982374,0.20115417422819887,0.16207937255175792,0.21276764865574194,0.09543318624408503,0.15878491080287618,0.1840140864047523,0.32111273987104116,0.3244339550632918,0.3381814513168685,1.0,0.11367175640417765,0.29572754067625345,0.27324047231921045],[-0.13741467714249087,-0.11761601041882046,-0.1912651401950974,0.10553795153065841,0.3096974109777824,-0.4289067891363692,0.26603586359896886,0.11022933076103679,0.25159421752707395,0.17966406713441127,0.2482187717789588,0.27001069782834475,0.30718113747337483,0.31504183637614114,-0.03043700121811064,-0.08385395137327106,-0.19492989746077202,-0.12422280350202371,-0.03411796970622428,-0.023935175888307916,0.11367175640417765,1.0,0.3545361535609185,0.23410691523020893],[-0.0019613050994948186,0.0006159518986365689,-0.06990933942952544,0.10833414805009514,0.24107178003570032,-0.2331472700010815,0.235916466472166,0.19290368534177982,0.22829320009725237,0.2561269131564129,0.1804803058517604,0.24143614806649277,0.2903775641198487,0.31198265400944775,0.015381927912487794,0.045772136053049785,0.03101062920035796,0.1158679272712482,0.22177798230730067,0.26920889701714235,0.29572754067625345,0.3545361535609185,1.0,0.28995203633676475],[0.0017454272234456636,-0.005338981760702024,-0.08371340652501433,0.04641410210254837,0.16110960354943368,-0.2122581694725351,0.25151327225419057,0.1979247828004269,0.12689430524122428,0.19086899938040283,0.1857046366145684,0.140489471208461,0.30478775313156675,0.2866011464775678,0.1373425986164617,0.25598799007182726,0.15508526941166353,0.14587161002484716,0.2882041502522056,0.29638464598042363,0.27324047231921045,0.23410691523020893,0.28995203633676475,1.0]],\"zmax\":1,\"zmin\":-1,\"type\":\"heatmap\"}],                        {\"template\":{\"data\":{\"histogram2dcontour\":[{\"type\":\"histogram2dcontour\",\"colorbar\":{\"outlinewidth\":0,\"ticks\":\"\"},\"colorscale\":[[0.0,\"#0d0887\"],[0.1111111111111111,\"#46039f\"],[0.2222222222222222,\"#7201a8\"],[0.3333333333333333,\"#9c179e\"],[0.4444444444444444,\"#bd3786\"],[0.5555555555555556,\"#d8576b\"],[0.6666666666666666,\"#ed7953\"],[0.7777777777777778,\"#fb9f3a\"],[0.8888888888888888,\"#fdca26\"],[1.0,\"#f0f921\"]]}],\"choropleth\":[{\"type\":\"choropleth\",\"colorbar\":{\"outlinewidth\":0,\"ticks\":\"\"}}],\"histogram2d\":[{\"type\":\"histogram2d\",\"colorbar\":{\"outlinewidth\":0,\"ticks\":\"\"},\"colorscale\":[[0.0,\"#0d0887\"],[0.1111111111111111,\"#46039f\"],[0.2222222222222222,\"#7201a8\"],[0.3333333333333333,\"#9c179e\"],[0.4444444444444444,\"#bd3786\"],[0.5555555555555556,\"#d8576b\"],[0.6666666666666666,\"#ed7953\"],[0.7777777777777778,\"#fb9f3a\"],[0.8888888888888888,\"#fdca26\"],[1.0,\"#f0f921\"]]}],\"heatmap\":[{\"type\":\"heatmap\",\"colorbar\":{\"outlinewidth\":0,\"ticks\":\"\"},\"colorscale\":[[0.0,\"#0d0887\"],[0.1111111111111111,\"#46039f\"],[0.2222222222222222,\"#7201a8\"],[0.3333333333333333,\"#9c179e\"],[0.4444444444444444,\"#bd3786\"],[0.5555555555555556,\"#d8576b\"],[0.6666666666666666,\"#ed7953\"],[0.7777777777777778,\"#fb9f3a\"],[0.8888888888888888,\"#fdca26\"],[1.0,\"#f0f921\"]]}],\"heatmapgl\":[{\"type\":\"heatmapgl\",\"colorbar\":{\"outlinewidth\":0,\"ticks\":\"\"},\"colorscale\":[[0.0,\"#0d0887\"],[0.1111111111111111,\"#46039f\"],[0.2222222222222222,\"#7201a8\"],[0.3333333333333333,\"#9c179e\"],[0.4444444444444444,\"#bd3786\"],[0.5555555555555556,\"#d8576b\"],[0.6666666666666666,\"#ed7953\"],[0.7777777777777778,\"#fb9f3a\"],[0.8888888888888888,\"#fdca26\"],[1.0,\"#f0f921\"]]}],\"contourcarpet\":[{\"type\":\"contourcarpet\",\"colorbar\":{\"outlinewidth\":0,\"ticks\":\"\"}}],\"contour\":[{\"type\":\"contour\",\"colorbar\":{\"outlinewidth\":0,\"ticks\":\"\"},\"colorscale\":[[0.0,\"#0d0887\"],[0.1111111111111111,\"#46039f\"],[0.2222222222222222,\"#7201a8\"],[0.3333333333333333,\"#9c179e\"],[0.4444444444444444,\"#bd3786\"],[0.5555555555555556,\"#d8576b\"],[0.6666666666666666,\"#ed7953\"],[0.7777777777777778,\"#fb9f3a\"],[0.8888888888888888,\"#fdca26\"],[1.0,\"#f0f921\"]]}],\"surface\":[{\"type\":\"surface\",\"colorbar\":{\"outlinewidth\":0,\"ticks\":\"\"},\"colorscale\":[[0.0,\"#0d0887\"],[0.1111111111111111,\"#46039f\"],[0.2222222222222222,\"#7201a8\"],[0.3333333333333333,\"#9c179e\"],[0.4444444444444444,\"#bd3786\"],[0.5555555555555556,\"#d8576b\"],[0.6666666666666666,\"#ed7953\"],[0.7777777777777778,\"#fb9f3a\"],[0.8888888888888888,\"#fdca26\"],[1.0,\"#f0f921\"]]}],\"mesh3d\":[{\"type\":\"mesh3d\",\"colorbar\":{\"outlinewidth\":0,\"ticks\":\"\"}}],\"scatter\":[{\"fillpattern\":{\"fillmode\":\"overlay\",\"size\":10,\"solidity\":0.2},\"type\":\"scatter\"}],\"parcoords\":[{\"type\":\"parcoords\",\"line\":{\"colorbar\":{\"outlinewidth\":0,\"ticks\":\"\"}}}],\"scatterpolargl\":[{\"type\":\"scatterpolargl\",\"marker\":{\"colorbar\":{\"outlinewidth\":0,\"ticks\":\"\"}}}],\"bar\":[{\"error_x\":{\"color\":\"#2a3f5f\"},\"error_y\":{\"color\":\"#2a3f5f\"},\"marker\":{\"line\":{\"color\":\"#E5ECF6\",\"width\":0.5},\"pattern\":{\"fillmode\":\"overlay\",\"size\":10,\"solidity\":0.2}},\"type\":\"bar\"}],\"scattergeo\":[{\"type\":\"scattergeo\",\"marker\":{\"colorbar\":{\"outlinewidth\":0,\"ticks\":\"\"}}}],\"scatterpolar\":[{\"type\":\"scatterpolar\",\"marker\":{\"colorbar\":{\"outlinewidth\":0,\"ticks\":\"\"}}}],\"histogram\":[{\"marker\":{\"pattern\":{\"fillmode\":\"overlay\",\"size\":10,\"solidity\":0.2}},\"type\":\"histogram\"}],\"scattergl\":[{\"type\":\"scattergl\",\"marker\":{\"colorbar\":{\"outlinewidth\":0,\"ticks\":\"\"}}}],\"scatter3d\":[{\"type\":\"scatter3d\",\"line\":{\"colorbar\":{\"outlinewidth\":0,\"ticks\":\"\"}},\"marker\":{\"colorbar\":{\"outlinewidth\":0,\"ticks\":\"\"}}}],\"scattermapbox\":[{\"type\":\"scattermapbox\",\"marker\":{\"colorbar\":{\"outlinewidth\":0,\"ticks\":\"\"}}}],\"scatterternary\":[{\"type\":\"scatterternary\",\"marker\":{\"colorbar\":{\"outlinewidth\":0,\"ticks\":\"\"}}}],\"scattercarpet\":[{\"type\":\"scattercarpet\",\"marker\":{\"colorbar\":{\"outlinewidth\":0,\"ticks\":\"\"}}}],\"carpet\":[{\"aaxis\":{\"endlinecolor\":\"#2a3f5f\",\"gridcolor\":\"white\",\"linecolor\":\"white\",\"minorgridcolor\":\"white\",\"startlinecolor\":\"#2a3f5f\"},\"baxis\":{\"endlinecolor\":\"#2a3f5f\",\"gridcolor\":\"white\",\"linecolor\":\"white\",\"minorgridcolor\":\"white\",\"startlinecolor\":\"#2a3f5f\"},\"type\":\"carpet\"}],\"table\":[{\"cells\":{\"fill\":{\"color\":\"#EBF0F8\"},\"line\":{\"color\":\"white\"}},\"header\":{\"fill\":{\"color\":\"#C8D4E3\"},\"line\":{\"color\":\"white\"}},\"type\":\"table\"}],\"barpolar\":[{\"marker\":{\"line\":{\"color\":\"#E5ECF6\",\"width\":0.5},\"pattern\":{\"fillmode\":\"overlay\",\"size\":10,\"solidity\":0.2}},\"type\":\"barpolar\"}],\"pie\":[{\"automargin\":true,\"type\":\"pie\"}]},\"layout\":{\"autotypenumbers\":\"strict\",\"colorway\":[\"#636efa\",\"#EF553B\",\"#00cc96\",\"#ab63fa\",\"#FFA15A\",\"#19d3f3\",\"#FF6692\",\"#B6E880\",\"#FF97FF\",\"#FECB52\"],\"font\":{\"color\":\"#2a3f5f\"},\"hovermode\":\"closest\",\"hoverlabel\":{\"align\":\"left\"},\"paper_bgcolor\":\"white\",\"plot_bgcolor\":\"#E5ECF6\",\"polar\":{\"bgcolor\":\"#E5ECF6\",\"angularaxis\":{\"gridcolor\":\"white\",\"linecolor\":\"white\",\"ticks\":\"\"},\"radialaxis\":{\"gridcolor\":\"white\",\"linecolor\":\"white\",\"ticks\":\"\"}},\"ternary\":{\"bgcolor\":\"#E5ECF6\",\"aaxis\":{\"gridcolor\":\"white\",\"linecolor\":\"white\",\"ticks\":\"\"},\"baxis\":{\"gridcolor\":\"white\",\"linecolor\":\"white\",\"ticks\":\"\"},\"caxis\":{\"gridcolor\":\"white\",\"linecolor\":\"white\",\"ticks\":\"\"}},\"coloraxis\":{\"colorbar\":{\"outlinewidth\":0,\"ticks\":\"\"}},\"colorscale\":{\"sequential\":[[0.0,\"#0d0887\"],[0.1111111111111111,\"#46039f\"],[0.2222222222222222,\"#7201a8\"],[0.3333333333333333,\"#9c179e\"],[0.4444444444444444,\"#bd3786\"],[0.5555555555555556,\"#d8576b\"],[0.6666666666666666,\"#ed7953\"],[0.7777777777777778,\"#fb9f3a\"],[0.8888888888888888,\"#fdca26\"],[1.0,\"#f0f921\"]],\"sequentialminus\":[[0.0,\"#0d0887\"],[0.1111111111111111,\"#46039f\"],[0.2222222222222222,\"#7201a8\"],[0.3333333333333333,\"#9c179e\"],[0.4444444444444444,\"#bd3786\"],[0.5555555555555556,\"#d8576b\"],[0.6666666666666666,\"#ed7953\"],[0.7777777777777778,\"#fb9f3a\"],[0.8888888888888888,\"#fdca26\"],[1.0,\"#f0f921\"]],\"diverging\":[[0,\"#8e0152\"],[0.1,\"#c51b7d\"],[0.2,\"#de77ae\"],[0.3,\"#f1b6da\"],[0.4,\"#fde0ef\"],[0.5,\"#f7f7f7\"],[0.6,\"#e6f5d0\"],[0.7,\"#b8e186\"],[0.8,\"#7fbc41\"],[0.9,\"#4d9221\"],[1,\"#276419\"]]},\"xaxis\":{\"gridcolor\":\"white\",\"linecolor\":\"white\",\"ticks\":\"\",\"title\":{\"standoff\":15},\"zerolinecolor\":\"white\",\"automargin\":true,\"zerolinewidth\":2},\"yaxis\":{\"gridcolor\":\"white\",\"linecolor\":\"white\",\"ticks\":\"\",\"title\":{\"standoff\":15},\"zerolinecolor\":\"white\",\"automargin\":true,\"zerolinewidth\":2},\"scene\":{\"xaxis\":{\"backgroundcolor\":\"#E5ECF6\",\"gridcolor\":\"white\",\"linecolor\":\"white\",\"showbackground\":true,\"ticks\":\"\",\"zerolinecolor\":\"white\",\"gridwidth\":2},\"yaxis\":{\"backgroundcolor\":\"#E5ECF6\",\"gridcolor\":\"white\",\"linecolor\":\"white\",\"showbackground\":true,\"ticks\":\"\",\"zerolinecolor\":\"white\",\"gridwidth\":2},\"zaxis\":{\"backgroundcolor\":\"#E5ECF6\",\"gridcolor\":\"white\",\"linecolor\":\"white\",\"showbackground\":true,\"ticks\":\"\",\"zerolinecolor\":\"white\",\"gridwidth\":2}},\"shapedefaults\":{\"line\":{\"color\":\"#2a3f5f\"}},\"annotationdefaults\":{\"arrowcolor\":\"#2a3f5f\",\"arrowhead\":0,\"arrowwidth\":1},\"geo\":{\"bgcolor\":\"white\",\"landcolor\":\"#E5ECF6\",\"subunitcolor\":\"white\",\"showland\":true,\"showlakes\":true,\"lakecolor\":\"white\"},\"title\":{\"x\":0.05},\"mapbox\":{\"style\":\"light\"}}},\"width\":900,\"height\":900},                        {\"responsive\": true}                    ).then(function(){\n",
       "                            \n",
       "var gd = document.getElementById('fa56dfcc-a2d2-41c0-8830-bb10ea16a098');\n",
       "var x = new MutationObserver(function (mutations, observer) {{\n",
       "        var display = window.getComputedStyle(gd).display;\n",
       "        if (!display || display === 'none') {{\n",
       "            console.log([gd, 'removed!']);\n",
       "            Plotly.purge(gd);\n",
       "            observer.disconnect();\n",
       "        }}\n",
       "}});\n",
       "\n",
       "// Listen for the removal of the full notebook cells\n",
       "var notebookContainer = gd.closest('#notebook-container');\n",
       "if (notebookContainer) {{\n",
       "    x.observe(notebookContainer, {childList: true});\n",
       "}}\n",
       "\n",
       "// Listen for the clearing of the current output cell\n",
       "var outputEl = gd.closest('.output');\n",
       "if (outputEl) {{\n",
       "    x.observe(outputEl, {childList: true});\n",
       "}}\n",
       "\n",
       "                        })                };                });            </script>        </div>"
      ]
     },
     "metadata": {},
     "output_type": "display_data"
    }
   ],
   "source": [
    "#Correlation\n",
    "\n",
    "# List the columns that are continuous variables\n",
    "continuous_variables = ['Age', 'Stay', 'Japanese', 'English', 'ToDep', 'ToSC', 'APD', 'AHome', 'APH', 'Afear', 'ACS', 'AGuilt',\n",
    "                        'AMiscell', 'ToAS', 'Partner', 'Friends', 'Parents', 'Relative', 'Profess',\n",
    "                        'Doctor', 'Reli', 'Alone', 'Others', 'Internet']\n",
    "\n",
    "# Create a subset dataframe only the columns of the continous variables\n",
    "data_cont = mental[continuous_variables]\n",
    "\n",
    "# Create a pearson correlation\n",
    "data_corr = data_cont.corr(method='pearson')\n",
    "\n",
    "# Build the Heatmap\n",
    "fig = go.Figure(go.Heatmap(x=data_corr.columns, y=data_corr.columns, z=data_corr.values.tolist(), zmin=-1, zmax=1))\n",
    "                \n",
    "# Adjust the plot size\n",
    "fig.update_layout(width=900, height=900)\n",
    "\n",
    "# Show the plot\n",
    "fig.show()\n",
    "\n",
    "\n",
    "\n",
    "\n",
    "\n"
   ]
  },
  {
   "cell_type": "code",
   "execution_count": 40,
   "id": "3036ac3f",
   "metadata": {},
   "outputs": [
    {
     "data": {
      "application/vnd.plotly.v1+json": {
       "config": {
        "plotlyServerURL": "https://plot.ly"
       },
       "data": [
        {
         "name": "Inter",
         "type": "histogram",
         "x": [
          0,
          2,
          2,
          3,
          3,
          6,
          3,
          9,
          7,
          3,
          5,
          8,
          1,
          3,
          9,
          6,
          3,
          3,
          7,
          1,
          4,
          3,
          13,
          1,
          8,
          10,
          13,
          9,
          6,
          7,
          10,
          9,
          9,
          2,
          9,
          14,
          4,
          14,
          13,
          15,
          6,
          4,
          10,
          12,
          6,
          7,
          13,
          2,
          0,
          6,
          19,
          9,
          10,
          8,
          5,
          8,
          17,
          12,
          8,
          7,
          5,
          2,
          8,
          7,
          5,
          9,
          11,
          9,
          5,
          14,
          9,
          5,
          6,
          4,
          2,
          10,
          11,
          10,
          13,
          6,
          6,
          10,
          2,
          0,
          13,
          13,
          8,
          8,
          2,
          13,
          3,
          4,
          1,
          6,
          17,
          21,
          14,
          4,
          12,
          10,
          3,
          6,
          9,
          9,
          7,
          25,
          19,
          11,
          8,
          10,
          5,
          10,
          2,
          9,
          3,
          17,
          6,
          5,
          0,
          6,
          14,
          9,
          9,
          3,
          6,
          0,
          8,
          10,
          8,
          3,
          13,
          1,
          13,
          11,
          14,
          14,
          7,
          11,
          11,
          17,
          6,
          9,
          10,
          4,
          12,
          0,
          8,
          8,
          13,
          5,
          10,
          0,
          9,
          5,
          4,
          0,
          8,
          7,
          11,
          10,
          7,
          11,
          4,
          7,
          9,
          1,
          11,
          13,
          0,
          11,
          6,
          7,
          7,
          9,
          24,
          6,
          11,
          7,
          3,
          4,
          8,
          22,
          12,
          15,
          5,
          22,
          6,
          13,
          11,
          9,
          10,
          4,
          12,
          16,
          3,
          17,
          6,
          7,
          16,
          8,
          2
         ]
        },
        {
         "name": "Dom",
         "type": "histogram",
         "x": [
          12,
          9,
          7,
          3,
          10,
          6,
          6,
          0,
          13,
          9,
          7,
          20,
          21,
          23,
          2,
          13,
          7,
          11,
          5,
          1,
          8,
          8,
          11,
          11,
          0,
          8,
          16,
          7,
          2,
          14,
          9,
          10,
          15,
          10,
          12,
          11,
          11,
          10,
          3,
          4,
          18,
          9,
          5,
          2,
          7,
          10,
          7,
          6,
          9,
          2,
          13,
          10,
          9,
          6,
          0,
          13,
          9,
          9,
          17,
          13,
          0,
          11,
          8,
          2,
          9,
          1,
          7
         ]
        }
       ],
       "layout": {
        "template": {
         "data": {
          "bar": [
           {
            "error_x": {
             "color": "#2a3f5f"
            },
            "error_y": {
             "color": "#2a3f5f"
            },
            "marker": {
             "line": {
              "color": "#E5ECF6",
              "width": 0.5
             },
             "pattern": {
              "fillmode": "overlay",
              "size": 10,
              "solidity": 0.2
             }
            },
            "type": "bar"
           }
          ],
          "barpolar": [
           {
            "marker": {
             "line": {
              "color": "#E5ECF6",
              "width": 0.5
             },
             "pattern": {
              "fillmode": "overlay",
              "size": 10,
              "solidity": 0.2
             }
            },
            "type": "barpolar"
           }
          ],
          "carpet": [
           {
            "aaxis": {
             "endlinecolor": "#2a3f5f",
             "gridcolor": "white",
             "linecolor": "white",
             "minorgridcolor": "white",
             "startlinecolor": "#2a3f5f"
            },
            "baxis": {
             "endlinecolor": "#2a3f5f",
             "gridcolor": "white",
             "linecolor": "white",
             "minorgridcolor": "white",
             "startlinecolor": "#2a3f5f"
            },
            "type": "carpet"
           }
          ],
          "choropleth": [
           {
            "colorbar": {
             "outlinewidth": 0,
             "ticks": ""
            },
            "type": "choropleth"
           }
          ],
          "contour": [
           {
            "colorbar": {
             "outlinewidth": 0,
             "ticks": ""
            },
            "colorscale": [
             [
              0,
              "#0d0887"
             ],
             [
              0.1111111111111111,
              "#46039f"
             ],
             [
              0.2222222222222222,
              "#7201a8"
             ],
             [
              0.3333333333333333,
              "#9c179e"
             ],
             [
              0.4444444444444444,
              "#bd3786"
             ],
             [
              0.5555555555555556,
              "#d8576b"
             ],
             [
              0.6666666666666666,
              "#ed7953"
             ],
             [
              0.7777777777777778,
              "#fb9f3a"
             ],
             [
              0.8888888888888888,
              "#fdca26"
             ],
             [
              1,
              "#f0f921"
             ]
            ],
            "type": "contour"
           }
          ],
          "contourcarpet": [
           {
            "colorbar": {
             "outlinewidth": 0,
             "ticks": ""
            },
            "type": "contourcarpet"
           }
          ],
          "heatmap": [
           {
            "colorbar": {
             "outlinewidth": 0,
             "ticks": ""
            },
            "colorscale": [
             [
              0,
              "#0d0887"
             ],
             [
              0.1111111111111111,
              "#46039f"
             ],
             [
              0.2222222222222222,
              "#7201a8"
             ],
             [
              0.3333333333333333,
              "#9c179e"
             ],
             [
              0.4444444444444444,
              "#bd3786"
             ],
             [
              0.5555555555555556,
              "#d8576b"
             ],
             [
              0.6666666666666666,
              "#ed7953"
             ],
             [
              0.7777777777777778,
              "#fb9f3a"
             ],
             [
              0.8888888888888888,
              "#fdca26"
             ],
             [
              1,
              "#f0f921"
             ]
            ],
            "type": "heatmap"
           }
          ],
          "heatmapgl": [
           {
            "colorbar": {
             "outlinewidth": 0,
             "ticks": ""
            },
            "colorscale": [
             [
              0,
              "#0d0887"
             ],
             [
              0.1111111111111111,
              "#46039f"
             ],
             [
              0.2222222222222222,
              "#7201a8"
             ],
             [
              0.3333333333333333,
              "#9c179e"
             ],
             [
              0.4444444444444444,
              "#bd3786"
             ],
             [
              0.5555555555555556,
              "#d8576b"
             ],
             [
              0.6666666666666666,
              "#ed7953"
             ],
             [
              0.7777777777777778,
              "#fb9f3a"
             ],
             [
              0.8888888888888888,
              "#fdca26"
             ],
             [
              1,
              "#f0f921"
             ]
            ],
            "type": "heatmapgl"
           }
          ],
          "histogram": [
           {
            "marker": {
             "pattern": {
              "fillmode": "overlay",
              "size": 10,
              "solidity": 0.2
             }
            },
            "type": "histogram"
           }
          ],
          "histogram2d": [
           {
            "colorbar": {
             "outlinewidth": 0,
             "ticks": ""
            },
            "colorscale": [
             [
              0,
              "#0d0887"
             ],
             [
              0.1111111111111111,
              "#46039f"
             ],
             [
              0.2222222222222222,
              "#7201a8"
             ],
             [
              0.3333333333333333,
              "#9c179e"
             ],
             [
              0.4444444444444444,
              "#bd3786"
             ],
             [
              0.5555555555555556,
              "#d8576b"
             ],
             [
              0.6666666666666666,
              "#ed7953"
             ],
             [
              0.7777777777777778,
              "#fb9f3a"
             ],
             [
              0.8888888888888888,
              "#fdca26"
             ],
             [
              1,
              "#f0f921"
             ]
            ],
            "type": "histogram2d"
           }
          ],
          "histogram2dcontour": [
           {
            "colorbar": {
             "outlinewidth": 0,
             "ticks": ""
            },
            "colorscale": [
             [
              0,
              "#0d0887"
             ],
             [
              0.1111111111111111,
              "#46039f"
             ],
             [
              0.2222222222222222,
              "#7201a8"
             ],
             [
              0.3333333333333333,
              "#9c179e"
             ],
             [
              0.4444444444444444,
              "#bd3786"
             ],
             [
              0.5555555555555556,
              "#d8576b"
             ],
             [
              0.6666666666666666,
              "#ed7953"
             ],
             [
              0.7777777777777778,
              "#fb9f3a"
             ],
             [
              0.8888888888888888,
              "#fdca26"
             ],
             [
              1,
              "#f0f921"
             ]
            ],
            "type": "histogram2dcontour"
           }
          ],
          "mesh3d": [
           {
            "colorbar": {
             "outlinewidth": 0,
             "ticks": ""
            },
            "type": "mesh3d"
           }
          ],
          "parcoords": [
           {
            "line": {
             "colorbar": {
              "outlinewidth": 0,
              "ticks": ""
             }
            },
            "type": "parcoords"
           }
          ],
          "pie": [
           {
            "automargin": true,
            "type": "pie"
           }
          ],
          "scatter": [
           {
            "fillpattern": {
             "fillmode": "overlay",
             "size": 10,
             "solidity": 0.2
            },
            "type": "scatter"
           }
          ],
          "scatter3d": [
           {
            "line": {
             "colorbar": {
              "outlinewidth": 0,
              "ticks": ""
             }
            },
            "marker": {
             "colorbar": {
              "outlinewidth": 0,
              "ticks": ""
             }
            },
            "type": "scatter3d"
           }
          ],
          "scattercarpet": [
           {
            "marker": {
             "colorbar": {
              "outlinewidth": 0,
              "ticks": ""
             }
            },
            "type": "scattercarpet"
           }
          ],
          "scattergeo": [
           {
            "marker": {
             "colorbar": {
              "outlinewidth": 0,
              "ticks": ""
             }
            },
            "type": "scattergeo"
           }
          ],
          "scattergl": [
           {
            "marker": {
             "colorbar": {
              "outlinewidth": 0,
              "ticks": ""
             }
            },
            "type": "scattergl"
           }
          ],
          "scattermapbox": [
           {
            "marker": {
             "colorbar": {
              "outlinewidth": 0,
              "ticks": ""
             }
            },
            "type": "scattermapbox"
           }
          ],
          "scatterpolar": [
           {
            "marker": {
             "colorbar": {
              "outlinewidth": 0,
              "ticks": ""
             }
            },
            "type": "scatterpolar"
           }
          ],
          "scatterpolargl": [
           {
            "marker": {
             "colorbar": {
              "outlinewidth": 0,
              "ticks": ""
             }
            },
            "type": "scatterpolargl"
           }
          ],
          "scatterternary": [
           {
            "marker": {
             "colorbar": {
              "outlinewidth": 0,
              "ticks": ""
             }
            },
            "type": "scatterternary"
           }
          ],
          "surface": [
           {
            "colorbar": {
             "outlinewidth": 0,
             "ticks": ""
            },
            "colorscale": [
             [
              0,
              "#0d0887"
             ],
             [
              0.1111111111111111,
              "#46039f"
             ],
             [
              0.2222222222222222,
              "#7201a8"
             ],
             [
              0.3333333333333333,
              "#9c179e"
             ],
             [
              0.4444444444444444,
              "#bd3786"
             ],
             [
              0.5555555555555556,
              "#d8576b"
             ],
             [
              0.6666666666666666,
              "#ed7953"
             ],
             [
              0.7777777777777778,
              "#fb9f3a"
             ],
             [
              0.8888888888888888,
              "#fdca26"
             ],
             [
              1,
              "#f0f921"
             ]
            ],
            "type": "surface"
           }
          ],
          "table": [
           {
            "cells": {
             "fill": {
              "color": "#EBF0F8"
             },
             "line": {
              "color": "white"
             }
            },
            "header": {
             "fill": {
              "color": "#C8D4E3"
             },
             "line": {
              "color": "white"
             }
            },
            "type": "table"
           }
          ]
         },
         "layout": {
          "annotationdefaults": {
           "arrowcolor": "#2a3f5f",
           "arrowhead": 0,
           "arrowwidth": 1
          },
          "autotypenumbers": "strict",
          "coloraxis": {
           "colorbar": {
            "outlinewidth": 0,
            "ticks": ""
           }
          },
          "colorscale": {
           "diverging": [
            [
             0,
             "#8e0152"
            ],
            [
             0.1,
             "#c51b7d"
            ],
            [
             0.2,
             "#de77ae"
            ],
            [
             0.3,
             "#f1b6da"
            ],
            [
             0.4,
             "#fde0ef"
            ],
            [
             0.5,
             "#f7f7f7"
            ],
            [
             0.6,
             "#e6f5d0"
            ],
            [
             0.7,
             "#b8e186"
            ],
            [
             0.8,
             "#7fbc41"
            ],
            [
             0.9,
             "#4d9221"
            ],
            [
             1,
             "#276419"
            ]
           ],
           "sequential": [
            [
             0,
             "#0d0887"
            ],
            [
             0.1111111111111111,
             "#46039f"
            ],
            [
             0.2222222222222222,
             "#7201a8"
            ],
            [
             0.3333333333333333,
             "#9c179e"
            ],
            [
             0.4444444444444444,
             "#bd3786"
            ],
            [
             0.5555555555555556,
             "#d8576b"
            ],
            [
             0.6666666666666666,
             "#ed7953"
            ],
            [
             0.7777777777777778,
             "#fb9f3a"
            ],
            [
             0.8888888888888888,
             "#fdca26"
            ],
            [
             1,
             "#f0f921"
            ]
           ],
           "sequentialminus": [
            [
             0,
             "#0d0887"
            ],
            [
             0.1111111111111111,
             "#46039f"
            ],
            [
             0.2222222222222222,
             "#7201a8"
            ],
            [
             0.3333333333333333,
             "#9c179e"
            ],
            [
             0.4444444444444444,
             "#bd3786"
            ],
            [
             0.5555555555555556,
             "#d8576b"
            ],
            [
             0.6666666666666666,
             "#ed7953"
            ],
            [
             0.7777777777777778,
             "#fb9f3a"
            ],
            [
             0.8888888888888888,
             "#fdca26"
            ],
            [
             1,
             "#f0f921"
            ]
           ]
          },
          "colorway": [
           "#636efa",
           "#EF553B",
           "#00cc96",
           "#ab63fa",
           "#FFA15A",
           "#19d3f3",
           "#FF6692",
           "#B6E880",
           "#FF97FF",
           "#FECB52"
          ],
          "font": {
           "color": "#2a3f5f"
          },
          "geo": {
           "bgcolor": "white",
           "lakecolor": "white",
           "landcolor": "#E5ECF6",
           "showlakes": true,
           "showland": true,
           "subunitcolor": "white"
          },
          "hoverlabel": {
           "align": "left"
          },
          "hovermode": "closest",
          "mapbox": {
           "style": "light"
          },
          "paper_bgcolor": "white",
          "plot_bgcolor": "#E5ECF6",
          "polar": {
           "angularaxis": {
            "gridcolor": "white",
            "linecolor": "white",
            "ticks": ""
           },
           "bgcolor": "#E5ECF6",
           "radialaxis": {
            "gridcolor": "white",
            "linecolor": "white",
            "ticks": ""
           }
          },
          "scene": {
           "xaxis": {
            "backgroundcolor": "#E5ECF6",
            "gridcolor": "white",
            "gridwidth": 2,
            "linecolor": "white",
            "showbackground": true,
            "ticks": "",
            "zerolinecolor": "white"
           },
           "yaxis": {
            "backgroundcolor": "#E5ECF6",
            "gridcolor": "white",
            "gridwidth": 2,
            "linecolor": "white",
            "showbackground": true,
            "ticks": "",
            "zerolinecolor": "white"
           },
           "zaxis": {
            "backgroundcolor": "#E5ECF6",
            "gridcolor": "white",
            "gridwidth": 2,
            "linecolor": "white",
            "showbackground": true,
            "ticks": "",
            "zerolinecolor": "white"
           }
          },
          "shapedefaults": {
           "line": {
            "color": "#2a3f5f"
           }
          },
          "ternary": {
           "aaxis": {
            "gridcolor": "white",
            "linecolor": "white",
            "ticks": ""
           },
           "baxis": {
            "gridcolor": "white",
            "linecolor": "white",
            "ticks": ""
           },
           "bgcolor": "#E5ECF6",
           "caxis": {
            "gridcolor": "white",
            "linecolor": "white",
            "ticks": ""
           }
          },
          "title": {
           "x": 0.05
          },
          "xaxis": {
           "automargin": true,
           "gridcolor": "white",
           "linecolor": "white",
           "ticks": "",
           "title": {
            "standoff": 15
           },
           "zerolinecolor": "white",
           "zerolinewidth": 2
          },
          "yaxis": {
           "automargin": true,
           "gridcolor": "white",
           "linecolor": "white",
           "ticks": "",
           "title": {
            "standoff": 15
           },
           "zerolinecolor": "white",
           "zerolinewidth": 2
          }
         }
        },
        "updatemenus": [
         {
          "active": 0,
          "buttons": [
           {
            "args": [
             {
              "visible": [
               true,
               true
              ]
             },
             {
              "title": "All"
             }
            ],
            "label": "All",
            "method": "update"
           },
           {
            "args": [
             {
              "visible": [
               true,
               false
              ]
             },
             {
              "title": "International students PHQ-9 test Scores"
             }
            ],
            "label": "International",
            "method": "update"
           },
           {
            "args": [
             {
              "visible": [
               false,
               true
              ]
             },
             {
              "title": "Domestic students PHQ-9 test Scores"
             }
            ],
            "label": "Domestic",
            "method": "update"
           }
          ],
          "showactive": true,
          "type": "dropdown",
          "x": 1.3,
          "y": 0.5
         }
        ]
       }
      },
      "text/html": [
       "<div>                            <div id=\"f160c670-c5da-4171-8d10-5416e0f0c8f3\" class=\"plotly-graph-div\" style=\"height:525px; width:100%;\"></div>            <script type=\"text/javascript\">                require([\"plotly\"], function(Plotly) {                    window.PLOTLYENV=window.PLOTLYENV || {};                                    if (document.getElementById(\"f160c670-c5da-4171-8d10-5416e0f0c8f3\")) {                    Plotly.newPlot(                        \"f160c670-c5da-4171-8d10-5416e0f0c8f3\",                        [{\"name\":\"Inter\",\"x\":[0.0,2.0,2.0,3.0,3.0,6.0,3.0,9.0,7.0,3.0,5.0,8.0,1.0,3.0,9.0,6.0,3.0,3.0,7.0,1.0,4.0,3.0,13.0,1.0,8.0,10.0,13.0,9.0,6.0,7.0,10.0,9.0,9.0,2.0,9.0,14.0,4.0,14.0,13.0,15.0,6.0,4.0,10.0,12.0,6.0,7.0,13.0,2.0,0.0,6.0,19.0,9.0,10.0,8.0,5.0,8.0,17.0,12.0,8.0,7.0,5.0,2.0,8.0,7.0,5.0,9.0,11.0,9.0,5.0,14.0,9.0,5.0,6.0,4.0,2.0,10.0,11.0,10.0,13.0,6.0,6.0,10.0,2.0,0.0,13.0,13.0,8.0,8.0,2.0,13.0,3.0,4.0,1.0,6.0,17.0,21.0,14.0,4.0,12.0,10.0,3.0,6.0,9.0,9.0,7.0,25.0,19.0,11.0,8.0,10.0,5.0,10.0,2.0,9.0,3.0,17.0,6.0,5.0,0.0,6.0,14.0,9.0,9.0,3.0,6.0,0.0,8.0,10.0,8.0,3.0,13.0,1.0,13.0,11.0,14.0,14.0,7.0,11.0,11.0,17.0,6.0,9.0,10.0,4.0,12.0,0.0,8.0,8.0,13.0,5.0,10.0,0.0,9.0,5.0,4.0,0.0,8.0,7.0,11.0,10.0,7.0,11.0,4.0,7.0,9.0,1.0,11.0,13.0,0.0,11.0,6.0,7.0,7.0,9.0,24.0,6.0,11.0,7.0,3.0,4.0,8.0,22.0,12.0,15.0,5.0,22.0,6.0,13.0,11.0,9.0,10.0,4.0,12.0,16.0,3.0,17.0,6.0,7.0,16.0,8.0,2.0],\"type\":\"histogram\"},{\"name\":\"Dom\",\"x\":[12.0,9.0,7.0,3.0,10.0,6.0,6.0,0.0,13.0,9.0,7.0,20.0,21.0,23.0,2.0,13.0,7.0,11.0,5.0,1.0,8.0,8.0,11.0,11.0,0.0,8.0,16.0,7.0,2.0,14.0,9.0,10.0,15.0,10.0,12.0,11.0,11.0,10.0,3.0,4.0,18.0,9.0,5.0,2.0,7.0,10.0,7.0,6.0,9.0,2.0,13.0,10.0,9.0,6.0,0.0,13.0,9.0,9.0,17.0,13.0,0.0,11.0,8.0,2.0,9.0,1.0,7.0],\"type\":\"histogram\"}],                        {\"template\":{\"data\":{\"histogram2dcontour\":[{\"type\":\"histogram2dcontour\",\"colorbar\":{\"outlinewidth\":0,\"ticks\":\"\"},\"colorscale\":[[0.0,\"#0d0887\"],[0.1111111111111111,\"#46039f\"],[0.2222222222222222,\"#7201a8\"],[0.3333333333333333,\"#9c179e\"],[0.4444444444444444,\"#bd3786\"],[0.5555555555555556,\"#d8576b\"],[0.6666666666666666,\"#ed7953\"],[0.7777777777777778,\"#fb9f3a\"],[0.8888888888888888,\"#fdca26\"],[1.0,\"#f0f921\"]]}],\"choropleth\":[{\"type\":\"choropleth\",\"colorbar\":{\"outlinewidth\":0,\"ticks\":\"\"}}],\"histogram2d\":[{\"type\":\"histogram2d\",\"colorbar\":{\"outlinewidth\":0,\"ticks\":\"\"},\"colorscale\":[[0.0,\"#0d0887\"],[0.1111111111111111,\"#46039f\"],[0.2222222222222222,\"#7201a8\"],[0.3333333333333333,\"#9c179e\"],[0.4444444444444444,\"#bd3786\"],[0.5555555555555556,\"#d8576b\"],[0.6666666666666666,\"#ed7953\"],[0.7777777777777778,\"#fb9f3a\"],[0.8888888888888888,\"#fdca26\"],[1.0,\"#f0f921\"]]}],\"heatmap\":[{\"type\":\"heatmap\",\"colorbar\":{\"outlinewidth\":0,\"ticks\":\"\"},\"colorscale\":[[0.0,\"#0d0887\"],[0.1111111111111111,\"#46039f\"],[0.2222222222222222,\"#7201a8\"],[0.3333333333333333,\"#9c179e\"],[0.4444444444444444,\"#bd3786\"],[0.5555555555555556,\"#d8576b\"],[0.6666666666666666,\"#ed7953\"],[0.7777777777777778,\"#fb9f3a\"],[0.8888888888888888,\"#fdca26\"],[1.0,\"#f0f921\"]]}],\"heatmapgl\":[{\"type\":\"heatmapgl\",\"colorbar\":{\"outlinewidth\":0,\"ticks\":\"\"},\"colorscale\":[[0.0,\"#0d0887\"],[0.1111111111111111,\"#46039f\"],[0.2222222222222222,\"#7201a8\"],[0.3333333333333333,\"#9c179e\"],[0.4444444444444444,\"#bd3786\"],[0.5555555555555556,\"#d8576b\"],[0.6666666666666666,\"#ed7953\"],[0.7777777777777778,\"#fb9f3a\"],[0.8888888888888888,\"#fdca26\"],[1.0,\"#f0f921\"]]}],\"contourcarpet\":[{\"type\":\"contourcarpet\",\"colorbar\":{\"outlinewidth\":0,\"ticks\":\"\"}}],\"contour\":[{\"type\":\"contour\",\"colorbar\":{\"outlinewidth\":0,\"ticks\":\"\"},\"colorscale\":[[0.0,\"#0d0887\"],[0.1111111111111111,\"#46039f\"],[0.2222222222222222,\"#7201a8\"],[0.3333333333333333,\"#9c179e\"],[0.4444444444444444,\"#bd3786\"],[0.5555555555555556,\"#d8576b\"],[0.6666666666666666,\"#ed7953\"],[0.7777777777777778,\"#fb9f3a\"],[0.8888888888888888,\"#fdca26\"],[1.0,\"#f0f921\"]]}],\"surface\":[{\"type\":\"surface\",\"colorbar\":{\"outlinewidth\":0,\"ticks\":\"\"},\"colorscale\":[[0.0,\"#0d0887\"],[0.1111111111111111,\"#46039f\"],[0.2222222222222222,\"#7201a8\"],[0.3333333333333333,\"#9c179e\"],[0.4444444444444444,\"#bd3786\"],[0.5555555555555556,\"#d8576b\"],[0.6666666666666666,\"#ed7953\"],[0.7777777777777778,\"#fb9f3a\"],[0.8888888888888888,\"#fdca26\"],[1.0,\"#f0f921\"]]}],\"mesh3d\":[{\"type\":\"mesh3d\",\"colorbar\":{\"outlinewidth\":0,\"ticks\":\"\"}}],\"scatter\":[{\"fillpattern\":{\"fillmode\":\"overlay\",\"size\":10,\"solidity\":0.2},\"type\":\"scatter\"}],\"parcoords\":[{\"type\":\"parcoords\",\"line\":{\"colorbar\":{\"outlinewidth\":0,\"ticks\":\"\"}}}],\"scatterpolargl\":[{\"type\":\"scatterpolargl\",\"marker\":{\"colorbar\":{\"outlinewidth\":0,\"ticks\":\"\"}}}],\"bar\":[{\"error_x\":{\"color\":\"#2a3f5f\"},\"error_y\":{\"color\":\"#2a3f5f\"},\"marker\":{\"line\":{\"color\":\"#E5ECF6\",\"width\":0.5},\"pattern\":{\"fillmode\":\"overlay\",\"size\":10,\"solidity\":0.2}},\"type\":\"bar\"}],\"scattergeo\":[{\"type\":\"scattergeo\",\"marker\":{\"colorbar\":{\"outlinewidth\":0,\"ticks\":\"\"}}}],\"scatterpolar\":[{\"type\":\"scatterpolar\",\"marker\":{\"colorbar\":{\"outlinewidth\":0,\"ticks\":\"\"}}}],\"histogram\":[{\"marker\":{\"pattern\":{\"fillmode\":\"overlay\",\"size\":10,\"solidity\":0.2}},\"type\":\"histogram\"}],\"scattergl\":[{\"type\":\"scattergl\",\"marker\":{\"colorbar\":{\"outlinewidth\":0,\"ticks\":\"\"}}}],\"scatter3d\":[{\"type\":\"scatter3d\",\"line\":{\"colorbar\":{\"outlinewidth\":0,\"ticks\":\"\"}},\"marker\":{\"colorbar\":{\"outlinewidth\":0,\"ticks\":\"\"}}}],\"scattermapbox\":[{\"type\":\"scattermapbox\",\"marker\":{\"colorbar\":{\"outlinewidth\":0,\"ticks\":\"\"}}}],\"scatterternary\":[{\"type\":\"scatterternary\",\"marker\":{\"colorbar\":{\"outlinewidth\":0,\"ticks\":\"\"}}}],\"scattercarpet\":[{\"type\":\"scattercarpet\",\"marker\":{\"colorbar\":{\"outlinewidth\":0,\"ticks\":\"\"}}}],\"carpet\":[{\"aaxis\":{\"endlinecolor\":\"#2a3f5f\",\"gridcolor\":\"white\",\"linecolor\":\"white\",\"minorgridcolor\":\"white\",\"startlinecolor\":\"#2a3f5f\"},\"baxis\":{\"endlinecolor\":\"#2a3f5f\",\"gridcolor\":\"white\",\"linecolor\":\"white\",\"minorgridcolor\":\"white\",\"startlinecolor\":\"#2a3f5f\"},\"type\":\"carpet\"}],\"table\":[{\"cells\":{\"fill\":{\"color\":\"#EBF0F8\"},\"line\":{\"color\":\"white\"}},\"header\":{\"fill\":{\"color\":\"#C8D4E3\"},\"line\":{\"color\":\"white\"}},\"type\":\"table\"}],\"barpolar\":[{\"marker\":{\"line\":{\"color\":\"#E5ECF6\",\"width\":0.5},\"pattern\":{\"fillmode\":\"overlay\",\"size\":10,\"solidity\":0.2}},\"type\":\"barpolar\"}],\"pie\":[{\"automargin\":true,\"type\":\"pie\"}]},\"layout\":{\"autotypenumbers\":\"strict\",\"colorway\":[\"#636efa\",\"#EF553B\",\"#00cc96\",\"#ab63fa\",\"#FFA15A\",\"#19d3f3\",\"#FF6692\",\"#B6E880\",\"#FF97FF\",\"#FECB52\"],\"font\":{\"color\":\"#2a3f5f\"},\"hovermode\":\"closest\",\"hoverlabel\":{\"align\":\"left\"},\"paper_bgcolor\":\"white\",\"plot_bgcolor\":\"#E5ECF6\",\"polar\":{\"bgcolor\":\"#E5ECF6\",\"angularaxis\":{\"gridcolor\":\"white\",\"linecolor\":\"white\",\"ticks\":\"\"},\"radialaxis\":{\"gridcolor\":\"white\",\"linecolor\":\"white\",\"ticks\":\"\"}},\"ternary\":{\"bgcolor\":\"#E5ECF6\",\"aaxis\":{\"gridcolor\":\"white\",\"linecolor\":\"white\",\"ticks\":\"\"},\"baxis\":{\"gridcolor\":\"white\",\"linecolor\":\"white\",\"ticks\":\"\"},\"caxis\":{\"gridcolor\":\"white\",\"linecolor\":\"white\",\"ticks\":\"\"}},\"coloraxis\":{\"colorbar\":{\"outlinewidth\":0,\"ticks\":\"\"}},\"colorscale\":{\"sequential\":[[0.0,\"#0d0887\"],[0.1111111111111111,\"#46039f\"],[0.2222222222222222,\"#7201a8\"],[0.3333333333333333,\"#9c179e\"],[0.4444444444444444,\"#bd3786\"],[0.5555555555555556,\"#d8576b\"],[0.6666666666666666,\"#ed7953\"],[0.7777777777777778,\"#fb9f3a\"],[0.8888888888888888,\"#fdca26\"],[1.0,\"#f0f921\"]],\"sequentialminus\":[[0.0,\"#0d0887\"],[0.1111111111111111,\"#46039f\"],[0.2222222222222222,\"#7201a8\"],[0.3333333333333333,\"#9c179e\"],[0.4444444444444444,\"#bd3786\"],[0.5555555555555556,\"#d8576b\"],[0.6666666666666666,\"#ed7953\"],[0.7777777777777778,\"#fb9f3a\"],[0.8888888888888888,\"#fdca26\"],[1.0,\"#f0f921\"]],\"diverging\":[[0,\"#8e0152\"],[0.1,\"#c51b7d\"],[0.2,\"#de77ae\"],[0.3,\"#f1b6da\"],[0.4,\"#fde0ef\"],[0.5,\"#f7f7f7\"],[0.6,\"#e6f5d0\"],[0.7,\"#b8e186\"],[0.8,\"#7fbc41\"],[0.9,\"#4d9221\"],[1,\"#276419\"]]},\"xaxis\":{\"gridcolor\":\"white\",\"linecolor\":\"white\",\"ticks\":\"\",\"title\":{\"standoff\":15},\"zerolinecolor\":\"white\",\"automargin\":true,\"zerolinewidth\":2},\"yaxis\":{\"gridcolor\":\"white\",\"linecolor\":\"white\",\"ticks\":\"\",\"title\":{\"standoff\":15},\"zerolinecolor\":\"white\",\"automargin\":true,\"zerolinewidth\":2},\"scene\":{\"xaxis\":{\"backgroundcolor\":\"#E5ECF6\",\"gridcolor\":\"white\",\"linecolor\":\"white\",\"showbackground\":true,\"ticks\":\"\",\"zerolinecolor\":\"white\",\"gridwidth\":2},\"yaxis\":{\"backgroundcolor\":\"#E5ECF6\",\"gridcolor\":\"white\",\"linecolor\":\"white\",\"showbackground\":true,\"ticks\":\"\",\"zerolinecolor\":\"white\",\"gridwidth\":2},\"zaxis\":{\"backgroundcolor\":\"#E5ECF6\",\"gridcolor\":\"white\",\"linecolor\":\"white\",\"showbackground\":true,\"ticks\":\"\",\"zerolinecolor\":\"white\",\"gridwidth\":2}},\"shapedefaults\":{\"line\":{\"color\":\"#2a3f5f\"}},\"annotationdefaults\":{\"arrowcolor\":\"#2a3f5f\",\"arrowhead\":0,\"arrowwidth\":1},\"geo\":{\"bgcolor\":\"white\",\"landcolor\":\"#E5ECF6\",\"subunitcolor\":\"white\",\"showland\":true,\"showlakes\":true,\"lakecolor\":\"white\"},\"title\":{\"x\":0.05},\"mapbox\":{\"style\":\"light\"}}},\"updatemenus\":[{\"active\":0,\"buttons\":[{\"args\":[{\"visible\":[true,true]},{\"title\":\"All\"}],\"label\":\"All\",\"method\":\"update\"},{\"args\":[{\"visible\":[true,false]},{\"title\":\"International students PHQ-9 test Scores\"}],\"label\":\"International\",\"method\":\"update\"},{\"args\":[{\"visible\":[false,true]},{\"title\":\"Domestic students PHQ-9 test Scores\"}],\"label\":\"Domestic\",\"method\":\"update\"}],\"showactive\":true,\"type\":\"dropdown\",\"x\":1.3,\"y\":0.5}]},                        {\"responsive\": true}                    ).then(function(){\n",
       "                            \n",
       "var gd = document.getElementById('f160c670-c5da-4171-8d10-5416e0f0c8f3');\n",
       "var x = new MutationObserver(function (mutations, observer) {{\n",
       "        var display = window.getComputedStyle(gd).display;\n",
       "        if (!display || display === 'none') {{\n",
       "            console.log([gd, 'removed!']);\n",
       "            Plotly.purge(gd);\n",
       "            observer.disconnect();\n",
       "        }}\n",
       "}});\n",
       "\n",
       "// Listen for the removal of the full notebook cells\n",
       "var notebookContainer = gd.closest('#notebook-container');\n",
       "if (notebookContainer) {{\n",
       "    x.observe(notebookContainer, {childList: true});\n",
       "}}\n",
       "\n",
       "// Listen for the clearing of the current output cell\n",
       "var outputEl = gd.closest('.output');\n",
       "if (outputEl) {{\n",
       "    x.observe(outputEl, {childList: true});\n",
       "}}\n",
       "\n",
       "                        })                };                });            </script>        </div>"
      ]
     },
     "metadata": {},
     "output_type": "display_data"
    }
   ],
   "source": [
    "#Dropdown Interactivity of PHQ-9 test Scores\n",
    "\n",
    "# Create the figure\n",
    "fig = go.Figure()\n",
    "\n",
    "# Write a for loop to loop over the variable you want to have in the drop down\n",
    "for stu_type in ['Inter', 'Dom']:\n",
    "    df = mental[mental.inter_dom == stu_type]\n",
    "    fig.add_trace(go.Histogram(x=df[\"ToDep\"], name=stu_type))\n",
    "\n",
    "# Create the dropdown buttons\n",
    "dropdown_buttons = [\n",
    "    {'label':'All', 'method':'update', 'args':[{'visible': [True, True]}, {'title': 'All'}]},\n",
    "    {'label':'International', 'method':'update', 'args':[{'visible': [True, False]}, {'title': 'International students PHQ-9 test Scores'}]},\n",
    "    {'label':'Domestic', 'method':'update', 'args':[{'visible':[False, True]}, {'title':'Domestic students PHQ-9 test Scores'}]}\n",
    "]\n",
    "\n",
    "# Add the dropdown to the figure\n",
    "fig.update_layout(\n",
    "    {'updatemenus':[{'type':\"dropdown\",\n",
    "         'x': 1.3,\n",
    "         'y': 0.5,\n",
    "         'showactive':True,\n",
    "         'active':0,\n",
    "         'buttons': dropdown_buttons}]\n",
    "    }\n",
    ")\n",
    "\n",
    "# Show the figure\n",
    "fig.show()"
   ]
  },
  {
   "cell_type": "code",
   "execution_count": null,
   "id": "6d86d66d",
   "metadata": {},
   "outputs": [],
   "source": []
  }
 ],
 "metadata": {
  "kernelspec": {
   "display_name": "Python 3 (ipykernel)",
   "language": "python",
   "name": "python3"
  },
  "language_info": {
   "codemirror_mode": {
    "name": "ipython",
    "version": 3
   },
   "file_extension": ".py",
   "mimetype": "text/x-python",
   "name": "python",
   "nbconvert_exporter": "python",
   "pygments_lexer": "ipython3",
   "version": "3.11.5"
  }
 },
 "nbformat": 4,
 "nbformat_minor": 5
}
